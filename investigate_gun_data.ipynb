{
 "cells": [
  {
   "cell_type": "markdown",
   "metadata": {},
   "source": [
    "# Analysis of the Quantity of Background Checks for Guns and Educational and Economic Factors\n",
    "\n",
    "\n",
    "## Table of Contents\n",
    "<ul>\n",
    "<li><a href=\"#intro\">Introduction</a></li>\n",
    "<li><a href=\"#wrangling\">Data Wrangling</a></li>\n",
    "<li><a href=\"#eda\">Exploratory Data Analysis</a></li>\n",
    "<li><a href=\"#conclusions\">Conclusions</a></li>\n",
    "</ul>"
   ]
  },
  {
   "cell_type": "markdown",
   "metadata": {},
   "source": [
    "<a id='intro'></a>\n",
    "## Introduction\n",
    "\n"
   ]
  },
  {
   "cell_type": "markdown",
   "metadata": {},
   "source": [
    "Data Set: gun_data.csv.\n",
    "\n",
    "The data comes from the FBI's National Instant Criminal Background Check System. The NICS is used by to determine whether a prospective buyer is eligible to buy firearms or explosives. Gun shops call into this system to ensure that each customer does not have a criminal record or isn’t otherwise ineligible to make a purchase.\n",
    "\n",
    "Data Set: us_census_data.csv.\n",
    "\n",
    "The database has some census data by state. Most variables just have data for one year, but a few have data for more than one year.\n",
    "\n",
    "The gun data dataset has a column with the total checks by state and month\\year. I choose to use only the data between 2011 and 2015 because the data that I want to use in US Census database is from 2011 to 2015. In US Census I also have the population estimates for 2016. I Will use the population data to create the column checks percapita using the total checks for Gun Data and the Population Estimates from US Census data.\n",
    "\n",
    "Dependent Variable -> Checks percapita.\n",
    "\n",
    "Indepedent variables -> High school or higher percent, bachelor degree or higher, labor force percent, median household income, percapita income, poverty percent.\n",
    "\n",
    "Questions filtered:\n",
    "1. What is the state with more and the less checks? \n",
    "2. The more educated are the people the less guns they will buy?\n",
    "3. The more wealthy are people the less guns they will buy?"
   ]
  },
  {
   "cell_type": "markdown",
   "metadata": {},
   "source": [
    "<a id='wrangling'></a>\n",
    "## Data Wrangling\n",
    "\n",
    "\n",
    "### General Properties"
   ]
  },
  {
   "cell_type": "code",
   "execution_count": 27,
   "metadata": {
    "collapsed": true
   },
   "outputs": [],
   "source": [
    "import pandas as pd\n",
    "import numpy as np\n",
    "import matplotlib as mt\n",
    "import matplotlib.pyplot as plt\n",
    "from datetime import datetime as dt\n",
    "import seaborn as sns\n",
    "\n",
    "sns.set_style(\"dark\")\n",
    "\n",
    "\n",
    "%matplotlib inline"
   ]
  },
  {
   "cell_type": "code",
   "execution_count": 28,
   "metadata": {
    "collapsed": true
   },
   "outputs": [],
   "source": [
    "gun_data = pd.read_csv(\"gun_data.csv\")\n",
    "\n",
    "us_census_data = pd.read_csv(\"us_census_data.csv\")\n"
   ]
  },
  {
   "cell_type": "code",
   "execution_count": 29,
   "metadata": {
    "collapsed": false
   },
   "outputs": [
    {
     "name": "stdout",
     "output_type": "stream",
     "text": [
      "<class 'pandas.core.frame.DataFrame'>\n",
      "RangeIndex: 12485 entries, 0 to 12484\n",
      "Data columns (total 28 columns):\n",
      "month                        12485 non-null object\n",
      "initials                     55 non-null object\n",
      "state                        12485 non-null object\n",
      "permit                       12461 non-null float64\n",
      "permit_recheck               1100 non-null float64\n",
      "handgun                      12465 non-null float64\n",
      "long_gun                     12466 non-null float64\n",
      "other                        5500 non-null float64\n",
      "multiple                     12485 non-null int64\n",
      "admin                        12462 non-null float64\n",
      "prepawn_handgun              10542 non-null float64\n",
      "prepawn_long_gun             10540 non-null float64\n",
      "prepawn_other                5115 non-null float64\n",
      "redemption_handgun           10545 non-null float64\n",
      "redemption_long_gun          10544 non-null float64\n",
      "redemption_other             5115 non-null float64\n",
      "returned_handgun             2200 non-null float64\n",
      "returned_long_gun            2145 non-null float64\n",
      "returned_other               1815 non-null float64\n",
      "rentals_handgun              990 non-null float64\n",
      "rentals_long_gun             825 non-null float64\n",
      "private_sale_handgun         2750 non-null float64\n",
      "private_sale_long_gun        2750 non-null float64\n",
      "private_sale_other           2750 non-null float64\n",
      "return_to_seller_handgun     2475 non-null float64\n",
      "return_to_seller_long_gun    2750 non-null float64\n",
      "return_to_seller_other       2255 non-null float64\n",
      "totals                       12485 non-null int64\n",
      "dtypes: float64(23), int64(2), object(3)\n",
      "memory usage: 2.7+ MB\n",
      "None\n"
     ]
    }
   ],
   "source": [
    "#gun data information\n",
    "print gun_data.info()"
   ]
  },
  {
   "cell_type": "markdown",
   "metadata": {},
   "source": [
    "###### Information about Gun Data\n",
    "\n",
    "month -> Month of the data\n",
    "\n",
    "state -> State that the gun data is related\n",
    "\n",
    "totals -> considering that totals is the sum of the all the background check that a store has to make in fbi database before a gun\n",
    "are sold"
   ]
  },
  {
   "cell_type": "code",
   "execution_count": 30,
   "metadata": {
    "collapsed": false
   },
   "outputs": [
    {
     "name": "stdout",
     "output_type": "stream",
     "text": [
      "<class 'pandas.core.frame.DataFrame'>\n",
      "RangeIndex: 85 entries, 0 to 84\n",
      "Data columns (total 52 columns):\n",
      "Fact              80 non-null object\n",
      "Fact Note         28 non-null object\n",
      "Alabama           65 non-null object\n",
      "Alaska            65 non-null object\n",
      "Arizona           65 non-null object\n",
      "Arkansas          65 non-null object\n",
      "California        65 non-null object\n",
      "Colorado          65 non-null object\n",
      "Connecticut       65 non-null object\n",
      "Delaware          65 non-null object\n",
      "Florida           65 non-null object\n",
      "Georgia           65 non-null object\n",
      "Hawaii            65 non-null object\n",
      "Idaho             65 non-null object\n",
      "Illinois          65 non-null object\n",
      "Indiana           65 non-null object\n",
      "Iowa              65 non-null object\n",
      "Kansas            65 non-null object\n",
      "Kentucky          65 non-null object\n",
      "Louisiana         65 non-null object\n",
      "Maine             65 non-null object\n",
      "Maryland          65 non-null object\n",
      "Massachusetts     65 non-null object\n",
      "Michigan          65 non-null object\n",
      "Minnesota         65 non-null object\n",
      "Mississippi       65 non-null object\n",
      "Missouri          65 non-null object\n",
      "Montana           65 non-null object\n",
      "Nebraska          65 non-null object\n",
      "Nevada            65 non-null object\n",
      "New Hampshire     65 non-null object\n",
      "New Jersey        65 non-null object\n",
      "New Mexico        65 non-null object\n",
      "New York          65 non-null object\n",
      "North Carolina    65 non-null object\n",
      "North Dakota      65 non-null object\n",
      "Ohio              65 non-null object\n",
      "Oklahoma          65 non-null object\n",
      "Oregon            65 non-null object\n",
      "Pennsylvania      65 non-null object\n",
      "Rhode Island      65 non-null object\n",
      "South Carolina    65 non-null object\n",
      "South Dakota      65 non-null object\n",
      "Tennessee         65 non-null object\n",
      "Texas             65 non-null object\n",
      "Utah              65 non-null object\n",
      "Vermont           65 non-null object\n",
      "Virginia          65 non-null object\n",
      "Washington        65 non-null object\n",
      "West Virginia     65 non-null object\n",
      "Wisconsin         65 non-null object\n",
      "Wyoming           65 non-null object\n",
      "dtypes: object(52)\n",
      "memory usage: 34.6+ KB\n",
      "None\n"
     ]
    }
   ],
   "source": [
    "#us_census_data information\n",
    "print us_census_data.info()"
   ]
  },
  {
   "cell_type": "markdown",
   "metadata": {},
   "source": [
    "###### Information about census data\n",
    "Fact -> The fact column is a text that contais what is the information that each further column carries.<br>\n",
    "The other columns are state's names with the information about the Fact column."
   ]
  },
  {
   "cell_type": "markdown",
   "metadata": {},
   "source": [
    "### Data Cleaning "
   ]
  },
  {
   "cell_type": "code",
   "execution_count": 31,
   "metadata": {
    "collapsed": false
   },
   "outputs": [
    {
     "data": {
      "text/plain": [
       "0                                               Population estimates, July 1, 2016,  (V2016)\n",
       "1                                         Population estimates base, April 1, 2010,  (V2016)\n",
       "2      Population, percent change - April 1, 2010 (estimates base) to July 1, 2016,  (V2016)\n",
       "3                                                          Population, Census, April 1, 2010\n",
       "4                                     Persons under 5 years, percent, July 1, 2016,  (V2016)\n",
       "5                                              Persons under 5 years, percent, April 1, 2010\n",
       "6                                    Persons under 18 years, percent, July 1, 2016,  (V2016)\n",
       "7                                             Persons under 18 years, percent, April 1, 2010\n",
       "8                                Persons 65 years and over, percent,  July 1, 2016,  (V2016)\n",
       "9                                          Persons 65 years and over, percent, April 1, 2010\n",
       "10                                          Female persons, percent,  July 1, 2016,  (V2016)\n",
       "11                                                    Female persons, percent, April 1, 2010\n",
       "12                                              White alone, percent, July 1, 2016,  (V2016)\n",
       "13                          Black or African American alone, percent, July 1, 2016,  (V2016)\n",
       "14                  American Indian and Alaska Native alone, percent, July 1, 2016,  (V2016)\n",
       "15                                              Asian alone, percent, July 1, 2016,  (V2016)\n",
       "16         Native Hawaiian and Other Pacific Islander alone, percent, July 1, 2016,  (V2016)\n",
       "17                                        Two or More Races, percent, July 1, 2016,  (V2016)\n",
       "18                                       Hispanic or Latino, percent, July 1, 2016,  (V2016)\n",
       "19                      White alone, not Hispanic or Latino, percent, July 1, 2016,  (V2016)\n",
       "20                                                                       Veterans, 2011-2015\n",
       "21                                                  Foreign born persons, percent, 2011-2015\n",
       "22                                                    Housing units,  July 1, 2016,  (V2016)\n",
       "23                                                              Housing units, April 1, 2010\n",
       "24                                               Owner-occupied housing unit rate, 2011-2015\n",
       "25                                   Median value of owner-occupied housing units, 2011-2015\n",
       "26                           Median selected monthly owner costs -with a mortgage, 2011-2015\n",
       "27                        Median selected monthly owner costs -without a mortgage, 2011-2015\n",
       "28                                                              Median gross rent, 2011-2015\n",
       "29                                                                    Building permits, 2016\n",
       "30                                                                     Households, 2011-2015\n",
       "31                                                          Persons per household, 2011-2015\n",
       "32                Living in same house 1 year ago, percent of persons age 1 year+, 2011-2015\n",
       "33    Language other than English spoken at home, percent of persons age 5 years+, 2011-2015\n",
       "34               High school graduate or higher, percent of persons age 25 years+, 2011-2015\n",
       "35                  Bachelor's degree or higher, percent of persons age 25 years+, 2011-2015\n",
       "36                                 With a disability, under age 65 years, percent, 2011-2015\n",
       "37                            Persons  without health insurance, under age 65 years, percent\n",
       "38            In civilian labor force, total, percent of population age 16 years+, 2011-2015\n",
       "39           In civilian labor force, female, percent of population age 16 years+, 2011-2015\n",
       "40                                Total accommodation and food services sales, 2012 ($1,000)\n",
       "41                   Total health care and social assistance receipts/revenue, 2012 ($1,000)\n",
       "42                                              Total manufacturers shipments, 2012 ($1,000)\n",
       "43                                            Total merchant wholesaler sales, 2012 ($1,000)\n",
       "44                                                         Total retail sales, 2012 ($1,000)\n",
       "45                                                       Total retail sales per capita, 2012\n",
       "46                      Mean travel time to work (minutes), workers age 16 years+, 2011-2015\n",
       "47                                      Median household income (in 2015 dollars), 2011-2015\n",
       "48                          Per capita income in past 12 months (in 2015 dollars), 2011-2015\n",
       "49                                                               Persons in poverty, percent\n",
       "50                                                       Total employer establishments, 2015\n",
       "51                                                                    Total employment, 2015\n",
       "52                                                       Total annual payroll, 2015 ($1,000)\n",
       "53                                               Total employment, percent change, 2014-2015\n",
       "54                                                    Total nonemployer establishments, 2015\n",
       "55                                                                           All firms, 2012\n",
       "56                                                                     Men-owned firms, 2012\n",
       "57                                                                   Women-owned firms, 2012\n",
       "58                                                                Minority-owned firms, 2012\n",
       "59                                                             Nonminority-owned firms, 2012\n",
       "60                                                                 Veteran-owned firms, 2012\n",
       "61                                                              Nonveteran-owned firms, 2012\n",
       "62                                                          Population per square mile, 2010\n",
       "63                                                           Land area in square miles, 2010\n",
       "64                                                                                 FIPS Code\n",
       "65                                                                                       NaN\n",
       "66      NOTE: FIPS Code values are enclosed in quotes to ensure leading zeros remain intact.\n",
       "67                                                                                       NaN\n",
       "68                                                                               Value Notes\n",
       "69                                                                                         1\n",
       "70                                                                                       NaN\n",
       "71                                                                                Fact Notes\n",
       "72                                                                                       (a)\n",
       "73                                                                                       (b)\n",
       "74                                                                                       (c)\n",
       "75                                                                                       NaN\n",
       "76                                                                               Value Flags\n",
       "77                                                                                         -\n",
       "78                                                                                         D\n",
       "79                                                                                         F\n",
       "80                                                                                        FN\n",
       "81                                                                                       NaN\n",
       "82                                                                                         S\n",
       "83                                                                                         X\n",
       "84                                                                                         Z\n",
       "Name: Fact, dtype: object"
      ]
     },
     "execution_count": 31,
     "metadata": {},
     "output_type": "execute_result"
    }
   ],
   "source": [
    "#look for the fact column to decide if I will do a analysis especific by year\n",
    "pd.set_option('display.max_rows', 100)\n",
    "#increase the colwidth to see the text clear\n",
    "pd.set_option('max_colwidth',100)\n",
    "us_census_data.Fact\n"
   ]
  },
  {
   "cell_type": "markdown",
   "metadata": {},
   "source": [
    "I choose some Facts to use in the analysis for the quantity of gun checks."
   ]
  },
  {
   "cell_type": "code",
   "execution_count": 32,
   "metadata": {
    "collapsed": false
   },
   "outputs": [
    {
     "data": {
      "text/plain": [
       "0                                       Population estimates, July 1, 2016,  (V2016)\n",
       "1                                 Population estimates base, April 1, 2010,  (V2016)\n",
       "34       High school graduate or higher, percent of persons age 25 years+, 2011-2015\n",
       "35          Bachelor's degree or higher, percent of persons age 25 years+, 2011-2015\n",
       "38    In civilian labor force, total, percent of population age 16 years+, 2011-2015\n",
       "47                              Median household income (in 2015 dollars), 2011-2015\n",
       "48                  Per capita income in past 12 months (in 2015 dollars), 2011-2015\n",
       "49                                                       Persons in poverty, percent\n",
       "Name: Fact, dtype: object"
      ]
     },
     "execution_count": 32,
     "metadata": {},
     "output_type": "execute_result"
    }
   ],
   "source": [
    "us_census_data.iloc[[0,1,34,35,38, 47,48, 49], 0]"
   ]
  },
  {
   "cell_type": "markdown",
   "metadata": {},
   "source": [
    "The population estimates is for 2016, and the other data are from 2011 to 2015. I will use the population estimates for 2016 and the Facts data from 2011 to 2015.\n",
    "\n",
    "Since I will use only the data between 2011 and 2015 parsing the column month from a string to a date will help separate the data by year."
   ]
  },
  {
   "cell_type": "code",
   "execution_count": 33,
   "metadata": {
    "collapsed": true
   },
   "outputs": [],
   "source": [
    "# Takes a date as a string, and returns a Python datetime object. \n",
    "# If there is no date given, returns None\n",
    "def parse_date(date):\n",
    "    if date == '':\n",
    "        return None\n",
    "    else:\n",
    "        return dt.strptime(date, '%Y-%m')\n",
    "\n",
    "#changing the month field into date\n",
    "gun_data['datemonth'] = gun_data['month'].apply(parse_date)\n"
   ]
  },
  {
   "cell_type": "code",
   "execution_count": 34,
   "metadata": {
    "collapsed": false
   },
   "outputs": [
    {
     "data": {
      "text/html": [
       "<div>\n",
       "<table border=\"1\" class=\"dataframe\">\n",
       "  <thead>\n",
       "    <tr style=\"text-align: right;\">\n",
       "      <th></th>\n",
       "      <th>permit</th>\n",
       "      <th>permit_recheck</th>\n",
       "      <th>handgun</th>\n",
       "      <th>long_gun</th>\n",
       "      <th>other</th>\n",
       "      <th>multiple</th>\n",
       "      <th>admin</th>\n",
       "      <th>prepawn_handgun</th>\n",
       "      <th>prepawn_long_gun</th>\n",
       "      <th>prepawn_other</th>\n",
       "      <th>...</th>\n",
       "      <th>rentals_handgun</th>\n",
       "      <th>rentals_long_gun</th>\n",
       "      <th>private_sale_handgun</th>\n",
       "      <th>private_sale_long_gun</th>\n",
       "      <th>private_sale_other</th>\n",
       "      <th>return_to_seller_handgun</th>\n",
       "      <th>return_to_seller_long_gun</th>\n",
       "      <th>return_to_seller_other</th>\n",
       "      <th>totals</th>\n",
       "      <th>year</th>\n",
       "    </tr>\n",
       "    <tr>\n",
       "      <th>state</th>\n",
       "      <th></th>\n",
       "      <th></th>\n",
       "      <th></th>\n",
       "      <th></th>\n",
       "      <th></th>\n",
       "      <th></th>\n",
       "      <th></th>\n",
       "      <th></th>\n",
       "      <th></th>\n",
       "      <th></th>\n",
       "      <th></th>\n",
       "      <th></th>\n",
       "      <th></th>\n",
       "      <th></th>\n",
       "      <th></th>\n",
       "      <th></th>\n",
       "      <th></th>\n",
       "      <th></th>\n",
       "      <th></th>\n",
       "      <th></th>\n",
       "      <th></th>\n",
       "    </tr>\n",
       "  </thead>\n",
       "  <tbody>\n",
       "    <tr>\n",
       "      <th>Alabama</th>\n",
       "      <td>561,878.00</td>\n",
       "      <td>nan</td>\n",
       "      <td>924,870.00</td>\n",
       "      <td>880,782.00</td>\n",
       "      <td>28,581.00</td>\n",
       "      <td>44794</td>\n",
       "      <td>3.00</td>\n",
       "      <td>606.00</td>\n",
       "      <td>842.00</td>\n",
       "      <td>16.00</td>\n",
       "      <td>...</td>\n",
       "      <td>1.00</td>\n",
       "      <td>0.00</td>\n",
       "      <td>38.00</td>\n",
       "      <td>48.00</td>\n",
       "      <td>6.00</td>\n",
       "      <td>9.00</td>\n",
       "      <td>5.00</td>\n",
       "      <td>0.00</td>\n",
       "      <td>2690152</td>\n",
       "      <td>120780</td>\n",
       "    </tr>\n",
       "    <tr>\n",
       "      <th>Alaska</th>\n",
       "      <td>8,054.00</td>\n",
       "      <td>nan</td>\n",
       "      <td>173,600.00</td>\n",
       "      <td>195,110.00</td>\n",
       "      <td>9,844.00</td>\n",
       "      <td>10982</td>\n",
       "      <td>16.00</td>\n",
       "      <td>354.00</td>\n",
       "      <td>464.00</td>\n",
       "      <td>0.00</td>\n",
       "      <td>...</td>\n",
       "      <td>0.00</td>\n",
       "      <td>0.00</td>\n",
       "      <td>10.00</td>\n",
       "      <td>9.00</td>\n",
       "      <td>0.00</td>\n",
       "      <td>0.00</td>\n",
       "      <td>0.00</td>\n",
       "      <td>0.00</td>\n",
       "      <td>422189</td>\n",
       "      <td>120780</td>\n",
       "    </tr>\n",
       "    <tr>\n",
       "      <th>Arizona</th>\n",
       "      <td>268,585.00</td>\n",
       "      <td>nan</td>\n",
       "      <td>657,814.00</td>\n",
       "      <td>482,914.00</td>\n",
       "      <td>31,839.00</td>\n",
       "      <td>30719</td>\n",
       "      <td>0.00</td>\n",
       "      <td>375.00</td>\n",
       "      <td>209.00</td>\n",
       "      <td>11.00</td>\n",
       "      <td>...</td>\n",
       "      <td>0.00</td>\n",
       "      <td>0.00</td>\n",
       "      <td>29.00</td>\n",
       "      <td>21.00</td>\n",
       "      <td>4.00</td>\n",
       "      <td>4.00</td>\n",
       "      <td>1.00</td>\n",
       "      <td>0.00</td>\n",
       "      <td>1596290</td>\n",
       "      <td>120780</td>\n",
       "    </tr>\n",
       "    <tr>\n",
       "      <th>Arkansas</th>\n",
       "      <td>236,926.00</td>\n",
       "      <td>nan</td>\n",
       "      <td>336,938.00</td>\n",
       "      <td>433,949.00</td>\n",
       "      <td>7,202.00</td>\n",
       "      <td>20772</td>\n",
       "      <td>1,440.00</td>\n",
       "      <td>392.00</td>\n",
       "      <td>904.00</td>\n",
       "      <td>6.00</td>\n",
       "      <td>...</td>\n",
       "      <td>0.00</td>\n",
       "      <td>0.00</td>\n",
       "      <td>25.00</td>\n",
       "      <td>27.00</td>\n",
       "      <td>2.00</td>\n",
       "      <td>2.00</td>\n",
       "      <td>1.00</td>\n",
       "      <td>0.00</td>\n",
       "      <td>1223785</td>\n",
       "      <td>120780</td>\n",
       "    </tr>\n",
       "    <tr>\n",
       "      <th>California</th>\n",
       "      <td>2,447,878.00</td>\n",
       "      <td>nan</td>\n",
       "      <td>2,059,877.00</td>\n",
       "      <td>1,982,522.00</td>\n",
       "      <td>104,917.00</td>\n",
       "      <td>0</td>\n",
       "      <td>193.00</td>\n",
       "      <td>0.00</td>\n",
       "      <td>0.00</td>\n",
       "      <td>0.00</td>\n",
       "      <td>...</td>\n",
       "      <td>0.00</td>\n",
       "      <td>0.00</td>\n",
       "      <td>0.00</td>\n",
       "      <td>0.00</td>\n",
       "      <td>0.00</td>\n",
       "      <td>0.00</td>\n",
       "      <td>0.00</td>\n",
       "      <td>0.00</td>\n",
       "      <td>6642294</td>\n",
       "      <td>120780</td>\n",
       "    </tr>\n",
       "    <tr>\n",
       "      <th>Colorado</th>\n",
       "      <td>235,086.00</td>\n",
       "      <td>nan</td>\n",
       "      <td>946,429.00</td>\n",
       "      <td>824,342.00</td>\n",
       "      <td>34,153.00</td>\n",
       "      <td>91404</td>\n",
       "      <td>19.00</td>\n",
       "      <td>38.00</td>\n",
       "      <td>18.00</td>\n",
       "      <td>0.00</td>\n",
       "      <td>...</td>\n",
       "      <td>0.00</td>\n",
       "      <td>0.00</td>\n",
       "      <td>0.00</td>\n",
       "      <td>0.00</td>\n",
       "      <td>0.00</td>\n",
       "      <td>0.00</td>\n",
       "      <td>0.00</td>\n",
       "      <td>0.00</td>\n",
       "      <td>2133138</td>\n",
       "      <td>120780</td>\n",
       "    </tr>\n",
       "    <tr>\n",
       "      <th>Connecticut</th>\n",
       "      <td>637,918.00</td>\n",
       "      <td>nan</td>\n",
       "      <td>384,427.00</td>\n",
       "      <td>260,702.00</td>\n",
       "      <td>11,925.00</td>\n",
       "      <td>0</td>\n",
       "      <td>843.00</td>\n",
       "      <td>0.00</td>\n",
       "      <td>0.00</td>\n",
       "      <td>0.00</td>\n",
       "      <td>...</td>\n",
       "      <td>0.00</td>\n",
       "      <td>0.00</td>\n",
       "      <td>27.00</td>\n",
       "      <td>32.00</td>\n",
       "      <td>3.00</td>\n",
       "      <td>41.00</td>\n",
       "      <td>25.00</td>\n",
       "      <td>5.00</td>\n",
       "      <td>1295949</td>\n",
       "      <td>120780</td>\n",
       "    </tr>\n",
       "    <tr>\n",
       "      <th>Delaware</th>\n",
       "      <td>9,064.00</td>\n",
       "      <td>nan</td>\n",
       "      <td>89,164.00</td>\n",
       "      <td>80,283.00</td>\n",
       "      <td>3,316.00</td>\n",
       "      <td>3439</td>\n",
       "      <td>9.00</td>\n",
       "      <td>65.00</td>\n",
       "      <td>60.00</td>\n",
       "      <td>0.00</td>\n",
       "      <td>...</td>\n",
       "      <td>0.00</td>\n",
       "      <td>0.00</td>\n",
       "      <td>244.00</td>\n",
       "      <td>89.00</td>\n",
       "      <td>8.00</td>\n",
       "      <td>9.00</td>\n",
       "      <td>4.00</td>\n",
       "      <td>1.00</td>\n",
       "      <td>186642</td>\n",
       "      <td>120780</td>\n",
       "    </tr>\n",
       "    <tr>\n",
       "      <th>District of Columbia</th>\n",
       "      <td>28.00</td>\n",
       "      <td>nan</td>\n",
       "      <td>2,309.00</td>\n",
       "      <td>126.00</td>\n",
       "      <td>1.00</td>\n",
       "      <td>20</td>\n",
       "      <td>15.00</td>\n",
       "      <td>0.00</td>\n",
       "      <td>0.00</td>\n",
       "      <td>0.00</td>\n",
       "      <td>...</td>\n",
       "      <td>0.00</td>\n",
       "      <td>0.00</td>\n",
       "      <td>0.00</td>\n",
       "      <td>0.00</td>\n",
       "      <td>0.00</td>\n",
       "      <td>0.00</td>\n",
       "      <td>0.00</td>\n",
       "      <td>0.00</td>\n",
       "      <td>2500</td>\n",
       "      <td>120780</td>\n",
       "    </tr>\n",
       "    <tr>\n",
       "      <th>Florida</th>\n",
       "      <td>573,362.00</td>\n",
       "      <td>nan</td>\n",
       "      <td>2,398,131.00</td>\n",
       "      <td>1,388,188.00</td>\n",
       "      <td>83,529.00</td>\n",
       "      <td>101655</td>\n",
       "      <td>18,272.00</td>\n",
       "      <td>1,372.00</td>\n",
       "      <td>754.00</td>\n",
       "      <td>9.00</td>\n",
       "      <td>...</td>\n",
       "      <td>0.00</td>\n",
       "      <td>0.00</td>\n",
       "      <td>144.00</td>\n",
       "      <td>68.00</td>\n",
       "      <td>2.00</td>\n",
       "      <td>1.00</td>\n",
       "      <td>0.00</td>\n",
       "      <td>0.00</td>\n",
       "      <td>4733035</td>\n",
       "      <td>120780</td>\n",
       "    </tr>\n",
       "  </tbody>\n",
       "</table>\n",
       "<p>10 rows × 26 columns</p>\n",
       "</div>"
      ],
      "text/plain": [
       "                                   permit       permit_recheck  \\\n",
       "state                                                            \n",
       "Alabama                        561,878.00                  nan   \n",
       "Alaska                           8,054.00                  nan   \n",
       "Arizona                        268,585.00                  nan   \n",
       "Arkansas                       236,926.00                  nan   \n",
       "California                   2,447,878.00                  nan   \n",
       "Colorado                       235,086.00                  nan   \n",
       "Connecticut                    637,918.00                  nan   \n",
       "Delaware                         9,064.00                  nan   \n",
       "District of Columbia                28.00                  nan   \n",
       "Florida                        573,362.00                  nan   \n",
       "\n",
       "                                  handgun             long_gun  \\\n",
       "state                                                            \n",
       "Alabama                        924,870.00           880,782.00   \n",
       "Alaska                         173,600.00           195,110.00   \n",
       "Arizona                        657,814.00           482,914.00   \n",
       "Arkansas                       336,938.00           433,949.00   \n",
       "California                   2,059,877.00         1,982,522.00   \n",
       "Colorado                       946,429.00           824,342.00   \n",
       "Connecticut                    384,427.00           260,702.00   \n",
       "Delaware                        89,164.00            80,283.00   \n",
       "District of Columbia             2,309.00               126.00   \n",
       "Florida                      2,398,131.00         1,388,188.00   \n",
       "\n",
       "                                    other  multiple                admin  \\\n",
       "state                                                                      \n",
       "Alabama                         28,581.00     44794                 3.00   \n",
       "Alaska                           9,844.00     10982                16.00   \n",
       "Arizona                         31,839.00     30719                 0.00   \n",
       "Arkansas                         7,202.00     20772             1,440.00   \n",
       "California                     104,917.00         0               193.00   \n",
       "Colorado                        34,153.00     91404                19.00   \n",
       "Connecticut                     11,925.00         0               843.00   \n",
       "Delaware                         3,316.00      3439                 9.00   \n",
       "District of Columbia                 1.00        20                15.00   \n",
       "Florida                         83,529.00    101655            18,272.00   \n",
       "\n",
       "                          prepawn_handgun     prepawn_long_gun  \\\n",
       "state                                                            \n",
       "Alabama                            606.00               842.00   \n",
       "Alaska                             354.00               464.00   \n",
       "Arizona                            375.00               209.00   \n",
       "Arkansas                           392.00               904.00   \n",
       "California                           0.00                 0.00   \n",
       "Colorado                            38.00                18.00   \n",
       "Connecticut                          0.00                 0.00   \n",
       "Delaware                            65.00                60.00   \n",
       "District of Columbia                 0.00                 0.00   \n",
       "Florida                          1,372.00               754.00   \n",
       "\n",
       "                            prepawn_other   ...        rentals_handgun  \\\n",
       "state                                       ...                          \n",
       "Alabama                             16.00   ...                   1.00   \n",
       "Alaska                               0.00   ...                   0.00   \n",
       "Arizona                             11.00   ...                   0.00   \n",
       "Arkansas                             6.00   ...                   0.00   \n",
       "California                           0.00   ...                   0.00   \n",
       "Colorado                             0.00   ...                   0.00   \n",
       "Connecticut                          0.00   ...                   0.00   \n",
       "Delaware                             0.00   ...                   0.00   \n",
       "District of Columbia                 0.00   ...                   0.00   \n",
       "Florida                              9.00   ...                   0.00   \n",
       "\n",
       "                         rentals_long_gun  private_sale_handgun  \\\n",
       "state                                                             \n",
       "Alabama                              0.00                 38.00   \n",
       "Alaska                               0.00                 10.00   \n",
       "Arizona                              0.00                 29.00   \n",
       "Arkansas                             0.00                 25.00   \n",
       "California                           0.00                  0.00   \n",
       "Colorado                             0.00                  0.00   \n",
       "Connecticut                          0.00                 27.00   \n",
       "Delaware                             0.00                244.00   \n",
       "District of Columbia                 0.00                  0.00   \n",
       "Florida                              0.00                144.00   \n",
       "\n",
       "                      private_sale_long_gun   private_sale_other  \\\n",
       "state                                                              \n",
       "Alabama                               48.00                 6.00   \n",
       "Alaska                                 9.00                 0.00   \n",
       "Arizona                               21.00                 4.00   \n",
       "Arkansas                              27.00                 2.00   \n",
       "California                             0.00                 0.00   \n",
       "Colorado                               0.00                 0.00   \n",
       "Connecticut                           32.00                 3.00   \n",
       "Delaware                              89.00                 8.00   \n",
       "District of Columbia                   0.00                 0.00   \n",
       "Florida                               68.00                 2.00   \n",
       "\n",
       "                      return_to_seller_handgun  return_to_seller_long_gun  \\\n",
       "state                                                                       \n",
       "Alabama                                   9.00                       5.00   \n",
       "Alaska                                    0.00                       0.00   \n",
       "Arizona                                   4.00                       1.00   \n",
       "Arkansas                                  2.00                       1.00   \n",
       "California                                0.00                       0.00   \n",
       "Colorado                                  0.00                       0.00   \n",
       "Connecticut                              41.00                      25.00   \n",
       "Delaware                                  9.00                       4.00   \n",
       "District of Columbia                      0.00                       0.00   \n",
       "Florida                                   1.00                       0.00   \n",
       "\n",
       "                      return_to_seller_other   totals    year  \n",
       "state                                                          \n",
       "Alabama                                 0.00  2690152  120780  \n",
       "Alaska                                  0.00   422189  120780  \n",
       "Arizona                                 0.00  1596290  120780  \n",
       "Arkansas                                0.00  1223785  120780  \n",
       "California                              0.00  6642294  120780  \n",
       "Colorado                                0.00  2133138  120780  \n",
       "Connecticut                             5.00  1295949  120780  \n",
       "Delaware                                1.00   186642  120780  \n",
       "District of Columbia                    0.00     2500  120780  \n",
       "Florida                                 0.00  4733035  120780  \n",
       "\n",
       "[10 rows x 26 columns]"
      ]
     },
     "execution_count": 34,
     "metadata": {},
     "output_type": "execute_result"
    }
   ],
   "source": [
    "#filtering the results by period and then grouping by state\n",
    "gun_data['year'] = gun_data.datemonth.map(lambda x: x.year)\n",
    "gun_data_state_period = gun_data[gun_data['year'].isin([2011,2012,2013,2014,2015])]\n",
    "gun_data_state_period = gun_data_state_period.groupby('state').sum()\n",
    "\n",
    "gun_data_state_period.head(10)"
   ]
  },
  {
   "cell_type": "markdown",
   "metadata": {},
   "source": [
    "Separate the data from 2011 to 2015 in another dataset. We can observe for the sum of the column year that all states have data for all years."
   ]
  },
  {
   "cell_type": "code",
   "execution_count": 35,
   "metadata": {
    "collapsed": true
   },
   "outputs": [],
   "source": [
    "gun_data_totals_state = gun_data_state_period.loc[gun_data_state_period.index, 'totals']\n",
    "gun_data_totals_state = gun_data_totals_state.to_frame(name='totalChecks')"
   ]
  },
  {
   "cell_type": "markdown",
   "metadata": {},
   "source": [
    "I choose to analyse only the total checks by state. Another dataset was created with the state as index and the total of checks as the only column."
   ]
  },
  {
   "cell_type": "code",
   "execution_count": 36,
   "metadata": {
    "collapsed": false
   },
   "outputs": [
    {
     "data": {
      "text/html": [
       "<div>\n",
       "<table border=\"1\" class=\"dataframe\">\n",
       "  <thead>\n",
       "    <tr style=\"text-align: right;\">\n",
       "      <th></th>\n",
       "      <th>population_estimates</th>\n",
       "      <th>high_school_higher_p</th>\n",
       "      <th>bachelor_degree_higher_p</th>\n",
       "      <th>labor_force_p</th>\n",
       "      <th>median_household_income</th>\n",
       "      <th>percapita_income</th>\n",
       "      <th>poverty_p</th>\n",
       "    </tr>\n",
       "    <tr>\n",
       "      <th>state</th>\n",
       "      <th></th>\n",
       "      <th></th>\n",
       "      <th></th>\n",
       "      <th></th>\n",
       "      <th></th>\n",
       "      <th></th>\n",
       "      <th></th>\n",
       "    </tr>\n",
       "  </thead>\n",
       "  <tbody>\n",
       "    <tr>\n",
       "      <th>Alabama</th>\n",
       "      <td>4,863,300</td>\n",
       "      <td>84.30%</td>\n",
       "      <td>23.50%</td>\n",
       "      <td>58.00%</td>\n",
       "      <td>$43,623</td>\n",
       "      <td>$24,091</td>\n",
       "      <td>17.10%</td>\n",
       "    </tr>\n",
       "    <tr>\n",
       "      <th>Alaska</th>\n",
       "      <td>741,894</td>\n",
       "      <td>92.10%</td>\n",
       "      <td>28.00%</td>\n",
       "      <td>67.70%</td>\n",
       "      <td>$72,515</td>\n",
       "      <td>$33,413</td>\n",
       "      <td>9.90%</td>\n",
       "    </tr>\n",
       "    <tr>\n",
       "      <th>Arizona</th>\n",
       "      <td>6,931,071</td>\n",
       "      <td>86.00%</td>\n",
       "      <td>27.50%</td>\n",
       "      <td>59.30%</td>\n",
       "      <td>$50,255</td>\n",
       "      <td>$25,848</td>\n",
       "      <td>16.40%</td>\n",
       "    </tr>\n",
       "    <tr>\n",
       "      <th>Arkansas</th>\n",
       "      <td>2,988,248</td>\n",
       "      <td>84.80%</td>\n",
       "      <td>21.10%</td>\n",
       "      <td>58.50%</td>\n",
       "      <td>$41,371</td>\n",
       "      <td>$22,798</td>\n",
       "      <td>17.20%</td>\n",
       "    </tr>\n",
       "    <tr>\n",
       "      <th>California</th>\n",
       "      <td>39,250,017</td>\n",
       "      <td>81.80%</td>\n",
       "      <td>31.40%</td>\n",
       "      <td>63.10%</td>\n",
       "      <td>$61,818</td>\n",
       "      <td>$30,318</td>\n",
       "      <td>14.30%</td>\n",
       "    </tr>\n",
       "  </tbody>\n",
       "</table>\n",
       "</div>"
      ],
      "text/plain": [
       "           population_estimates high_school_higher_p bachelor_degree_higher_p  \\\n",
       "state                                                                           \n",
       "Alabama               4,863,300               84.30%                   23.50%   \n",
       "Alaska                  741,894               92.10%                   28.00%   \n",
       "Arizona               6,931,071               86.00%                   27.50%   \n",
       "Arkansas              2,988,248               84.80%                   21.10%   \n",
       "California           39,250,017               81.80%                   31.40%   \n",
       "\n",
       "           labor_force_p median_household_income percapita_income poverty_p  \n",
       "state                                                                        \n",
       "Alabama           58.00%                $43,623          $24,091     17.10%  \n",
       "Alaska            67.70%                $72,515          $33,413      9.90%  \n",
       "Arizona           59.30%                $50,255          $25,848     16.40%  \n",
       "Arkansas          58.50%                $41,371          $22,798     17.20%  \n",
       "California        63.10%                $61,818          $30,318     14.30%  "
      ]
     },
     "execution_count": 36,
     "metadata": {},
     "output_type": "execute_result"
    }
   ],
   "source": [
    "#putting the population_estimates in another dataset to join with the total_checks data\n",
    "df_pop_estimates = us_census_data.loc[0, gun_data_totals_state.index]\n",
    "df_pop_estimates = df_pop_estimates.to_frame(name='population_estimates')\n",
    "df_pop_estimates.loc[:, 'high_school_higher_p'] = pd.Series(us_census_data.loc[34, df_pop_estimates.index], index=df_pop_estimates.index)\n",
    "df_pop_estimates.loc[:, 'bachelor_degree_higher_p'] = pd.Series(us_census_data.loc[35, df_pop_estimates.index], index=df_pop_estimates.index)\n",
    "df_pop_estimates.loc[:, 'labor_force_p'] = pd.Series(us_census_data.loc[38, df_pop_estimates.index], index=df_pop_estimates.index)\n",
    "df_pop_estimates.loc[:, 'median_household_income'] = pd.Series(us_census_data.loc[47, df_pop_estimates.index], index=df_pop_estimates.index)\n",
    "df_pop_estimates.loc[:, 'percapita_income'] = pd.Series(us_census_data.loc[48, df_pop_estimates.index], index=df_pop_estimates.index)\n",
    "df_pop_estimates.loc[:, 'poverty_p'] = pd.Series(us_census_data.loc[49, df_pop_estimates.index], index=df_pop_estimates.index)\n",
    "df_pop_estimates.head()"
   ]
  },
  {
   "cell_type": "markdown",
   "metadata": {},
   "source": [
    "I did the same with US Census data. Another dataset by state with the chosen data: population_estimates, high_school_higher_p, bachelor_degree_higher_p, labor_force_p, median_household_income, percapita_income and poverty_p."
   ]
  },
  {
   "cell_type": "code",
   "execution_count": 37,
   "metadata": {
    "collapsed": false
   },
   "outputs": [
    {
     "data": {
      "text/html": [
       "<div>\n",
       "<table border=\"1\" class=\"dataframe\">\n",
       "  <thead>\n",
       "    <tr style=\"text-align: right;\">\n",
       "      <th></th>\n",
       "      <th>totalChecks</th>\n",
       "      <th>population_estimates</th>\n",
       "      <th>high_school_higher_p</th>\n",
       "      <th>bachelor_degree_higher_p</th>\n",
       "      <th>labor_force_p</th>\n",
       "      <th>median_household_income</th>\n",
       "      <th>percapita_income</th>\n",
       "      <th>poverty_p</th>\n",
       "    </tr>\n",
       "    <tr>\n",
       "      <th>state</th>\n",
       "      <th></th>\n",
       "      <th></th>\n",
       "      <th></th>\n",
       "      <th></th>\n",
       "      <th></th>\n",
       "      <th></th>\n",
       "      <th></th>\n",
       "      <th></th>\n",
       "    </tr>\n",
       "  </thead>\n",
       "  <tbody>\n",
       "    <tr>\n",
       "      <th>Alabama</th>\n",
       "      <td>2690152</td>\n",
       "      <td>4,863,300</td>\n",
       "      <td>84.30%</td>\n",
       "      <td>23.50%</td>\n",
       "      <td>58.00%</td>\n",
       "      <td>$43,623</td>\n",
       "      <td>$24,091</td>\n",
       "      <td>17.10%</td>\n",
       "    </tr>\n",
       "    <tr>\n",
       "      <th>Alaska</th>\n",
       "      <td>422189</td>\n",
       "      <td>741,894</td>\n",
       "      <td>92.10%</td>\n",
       "      <td>28.00%</td>\n",
       "      <td>67.70%</td>\n",
       "      <td>$72,515</td>\n",
       "      <td>$33,413</td>\n",
       "      <td>9.90%</td>\n",
       "    </tr>\n",
       "    <tr>\n",
       "      <th>Arizona</th>\n",
       "      <td>1596290</td>\n",
       "      <td>6,931,071</td>\n",
       "      <td>86.00%</td>\n",
       "      <td>27.50%</td>\n",
       "      <td>59.30%</td>\n",
       "      <td>$50,255</td>\n",
       "      <td>$25,848</td>\n",
       "      <td>16.40%</td>\n",
       "    </tr>\n",
       "    <tr>\n",
       "      <th>Arkansas</th>\n",
       "      <td>1223785</td>\n",
       "      <td>2,988,248</td>\n",
       "      <td>84.80%</td>\n",
       "      <td>21.10%</td>\n",
       "      <td>58.50%</td>\n",
       "      <td>$41,371</td>\n",
       "      <td>$22,798</td>\n",
       "      <td>17.20%</td>\n",
       "    </tr>\n",
       "    <tr>\n",
       "      <th>California</th>\n",
       "      <td>6642294</td>\n",
       "      <td>39,250,017</td>\n",
       "      <td>81.80%</td>\n",
       "      <td>31.40%</td>\n",
       "      <td>63.10%</td>\n",
       "      <td>$61,818</td>\n",
       "      <td>$30,318</td>\n",
       "      <td>14.30%</td>\n",
       "    </tr>\n",
       "    <tr>\n",
       "      <th>Colorado</th>\n",
       "      <td>2133138</td>\n",
       "      <td>5,540,545</td>\n",
       "      <td>90.70%</td>\n",
       "      <td>38.10%</td>\n",
       "      <td>67.60%</td>\n",
       "      <td>$60,629</td>\n",
       "      <td>$32,217</td>\n",
       "      <td>11.00%</td>\n",
       "    </tr>\n",
       "    <tr>\n",
       "      <th>Connecticut</th>\n",
       "      <td>1295949</td>\n",
       "      <td>3,576,452</td>\n",
       "      <td>89.90%</td>\n",
       "      <td>37.60%</td>\n",
       "      <td>67.20%</td>\n",
       "      <td>$70,331</td>\n",
       "      <td>$38,803</td>\n",
       "      <td>9.80%</td>\n",
       "    </tr>\n",
       "    <tr>\n",
       "      <th>Delaware</th>\n",
       "      <td>186642</td>\n",
       "      <td>952,065</td>\n",
       "      <td>88.40%</td>\n",
       "      <td>30.00%</td>\n",
       "      <td>63.10%</td>\n",
       "      <td>$60,509</td>\n",
       "      <td>$30,554</td>\n",
       "      <td>11.70%</td>\n",
       "    </tr>\n",
       "    <tr>\n",
       "      <th>District of Columbia</th>\n",
       "      <td>2500</td>\n",
       "      <td>NaN</td>\n",
       "      <td>NaN</td>\n",
       "      <td>NaN</td>\n",
       "      <td>NaN</td>\n",
       "      <td>NaN</td>\n",
       "      <td>NaN</td>\n",
       "      <td>NaN</td>\n",
       "    </tr>\n",
       "    <tr>\n",
       "      <th>Florida</th>\n",
       "      <td>4733035</td>\n",
       "      <td>20,612,439</td>\n",
       "      <td>86.90%</td>\n",
       "      <td>27.30%</td>\n",
       "      <td>58.80%</td>\n",
       "      <td>$47,507</td>\n",
       "      <td>$26,829</td>\n",
       "      <td>14.70%</td>\n",
       "    </tr>\n",
       "  </tbody>\n",
       "</table>\n",
       "</div>"
      ],
      "text/plain": [
       "                      totalChecks population_estimates high_school_higher_p  \\\n",
       "state                                                                         \n",
       "Alabama                   2690152            4,863,300               84.30%   \n",
       "Alaska                     422189              741,894               92.10%   \n",
       "Arizona                   1596290            6,931,071               86.00%   \n",
       "Arkansas                  1223785            2,988,248               84.80%   \n",
       "California                6642294           39,250,017               81.80%   \n",
       "Colorado                  2133138            5,540,545               90.70%   \n",
       "Connecticut               1295949            3,576,452               89.90%   \n",
       "Delaware                   186642              952,065               88.40%   \n",
       "District of Columbia         2500                  NaN                  NaN   \n",
       "Florida                   4733035           20,612,439               86.90%   \n",
       "\n",
       "                     bachelor_degree_higher_p labor_force_p  \\\n",
       "state                                                         \n",
       "Alabama                                23.50%        58.00%   \n",
       "Alaska                                 28.00%        67.70%   \n",
       "Arizona                                27.50%        59.30%   \n",
       "Arkansas                               21.10%        58.50%   \n",
       "California                             31.40%        63.10%   \n",
       "Colorado                               38.10%        67.60%   \n",
       "Connecticut                            37.60%        67.20%   \n",
       "Delaware                               30.00%        63.10%   \n",
       "District of Columbia                      NaN           NaN   \n",
       "Florida                                27.30%        58.80%   \n",
       "\n",
       "                     median_household_income percapita_income poverty_p  \n",
       "state                                                                    \n",
       "Alabama                             $43,623          $24,091     17.10%  \n",
       "Alaska                              $72,515          $33,413      9.90%  \n",
       "Arizona                             $50,255          $25,848     16.40%  \n",
       "Arkansas                            $41,371          $22,798     17.20%  \n",
       "California                          $61,818          $30,318     14.30%  \n",
       "Colorado                            $60,629          $32,217     11.00%  \n",
       "Connecticut                         $70,331          $38,803      9.80%  \n",
       "Delaware                            $60,509          $30,554     11.70%  \n",
       "District of Columbia                     NaN              NaN       NaN  \n",
       "Florida                             $47,507          $26,829     14.70%  "
      ]
     },
     "execution_count": 37,
     "metadata": {},
     "output_type": "execute_result"
    }
   ],
   "source": [
    "#concatenating the data about the checks and the census data\n",
    "gun_data_totals_state = pd.concat([gun_data_totals_state, df_pop_estimates], axis=1)\n",
    "gun_data_totals_state.head(10)"
   ]
  },
  {
   "cell_type": "markdown",
   "metadata": {},
   "source": [
    "Now I concatenated the dataset by state with the information about the checks for gun and the census data."
   ]
  },
  {
   "cell_type": "code",
   "execution_count": 38,
   "metadata": {
    "collapsed": true
   },
   "outputs": [],
   "source": [
    "#deleting states that have no census data\n",
    "gun_data_totals_state.drop('Mariana Islands', inplace=True)\n",
    "gun_data_totals_state.drop('District of Columbia', inplace=True)\n",
    "gun_data_totals_state.drop('Guam', inplace=True)\n",
    "gun_data_totals_state.drop('Puerto Rico', inplace=True)\n",
    "gun_data_totals_state.drop('Virgin Islands', inplace=True)\n"
   ]
  },
  {
   "cell_type": "markdown",
   "metadata": {},
   "source": [
    "Some states has no census data about the interesting Facts and the best thing is delete them from the dataset."
   ]
  },
  {
   "cell_type": "code",
   "execution_count": 39,
   "metadata": {
    "collapsed": false
   },
   "outputs": [
    {
     "name": "stdout",
     "output_type": "stream",
     "text": [
      "<class 'pandas.core.frame.DataFrame'>\n",
      "Index: 50 entries, Alabama to Wyoming\n",
      "Data columns (total 8 columns):\n",
      "totalChecks                 50 non-null int64\n",
      "population_estimates        50 non-null object\n",
      "high_school_higher_p        50 non-null object\n",
      "bachelor_degree_higher_p    50 non-null object\n",
      "labor_force_p               50 non-null object\n",
      "median_household_income     50 non-null object\n",
      "percapita_income            50 non-null object\n",
      "poverty_p                   50 non-null object\n",
      "dtypes: int64(1), object(7)\n",
      "memory usage: 3.5+ KB\n",
      "<class 'pandas.core.frame.DataFrame'>\n",
      "Index: 50 entries, Alabama to Wyoming\n",
      "Data columns (total 8 columns):\n",
      "totalChecks                 50 non-null int64\n",
      "population_estimates        50 non-null float64\n",
      "high_school_higher_p        50 non-null float64\n",
      "bachelor_degree_higher_p    50 non-null float64\n",
      "labor_force_p               50 non-null float64\n",
      "median_household_income     50 non-null float64\n",
      "percapita_income            50 non-null float64\n",
      "poverty_p                   50 non-null float64\n",
      "dtypes: float64(7), int64(1)\n",
      "memory usage: 3.5+ KB\n"
     ]
    }
   ],
   "source": [
    "import re\n",
    "#checking the types\n",
    "gun_data_totals_state.info()\n",
    "#converting then into float\n",
    "gun_data_totals_state['high_school_higher_p'] = gun_data_totals_state['high_school_higher_p'].replace( '[\\$%]','', regex=True )\n",
    "gun_data_totals_state['high_school_higher_p'] = gun_data_totals_state['high_school_higher_p'].apply(lambda x: float(re.sub(r'\\,([^,]*)$', r'.\\1', x).replace(',', '')))\n",
    "gun_data_totals_state['population_estimates'] = gun_data_totals_state['population_estimates'].replace( '[\\$%]','', regex=True )\n",
    "gun_data_totals_state['population_estimates'] = gun_data_totals_state['population_estimates'].apply(lambda x: float(x.replace(',', '')))\n",
    "gun_data_totals_state['bachelor_degree_higher_p'] = gun_data_totals_state['bachelor_degree_higher_p'].replace( '[\\$%]','', regex=True )\n",
    "gun_data_totals_state['bachelor_degree_higher_p'] = gun_data_totals_state['bachelor_degree_higher_p'].apply(lambda x: float(re.sub(r'\\,([^,]*)$', r'.\\1', x).replace(',', '')))\n",
    "gun_data_totals_state['labor_force_p'] = gun_data_totals_state['labor_force_p'].replace( '[\\$%]','', regex=True )\n",
    "gun_data_totals_state['labor_force_p'] = gun_data_totals_state['labor_force_p'].apply(lambda x: float(re.sub(r'\\,([^,]*)$', r'.\\1', x).replace(',', '')))\n",
    "gun_data_totals_state['median_household_income'] = gun_data_totals_state['median_household_income'].replace( '[\\$%]','', regex=True )\n",
    "gun_data_totals_state['median_household_income'] = gun_data_totals_state['median_household_income'].apply(lambda x: float(re.sub(r'\\,([^,]*)$', r'.\\1', x).replace(',', '')))\n",
    "gun_data_totals_state['percapita_income'] = gun_data_totals_state['percapita_income'].replace( '[\\$%]','', regex=True )\n",
    "gun_data_totals_state['percapita_income'] = gun_data_totals_state['percapita_income'].apply(lambda x: float(re.sub(r'\\,([^,]*)$', r'.\\1', x).replace(',', '')))\n",
    "gun_data_totals_state['poverty_p'] = gun_data_totals_state['poverty_p'].replace( '[\\$%]','', regex=True )\n",
    "gun_data_totals_state['poverty_p'] = gun_data_totals_state['poverty_p'].apply(lambda x: float(re.sub(r'\\,([^,]*)$', r'.\\1', x).replace(',', '')))\n",
    "#checking the types\n",
    "gun_data_totals_state.info()"
   ]
  },
  {
   "cell_type": "markdown",
   "metadata": {},
   "source": [
    "Deleting all the signs and commas from the data to parse then to float."
   ]
  },
  {
   "cell_type": "code",
   "execution_count": 40,
   "metadata": {
    "collapsed": true
   },
   "outputs": [],
   "source": [
    "#Keeping all the percentage data equal\n",
    "gun_data_totals_state['poverty_p'] = gun_data_totals_state['poverty_p'].apply(lambda x: x/100 if x>1 else x )\n",
    "gun_data_totals_state['bachelor_degree_higher_p'] = gun_data_totals_state['bachelor_degree_higher_p'].apply(lambda x: x/100 if x>1 else x )\n",
    "gun_data_totals_state['high_school_higher_p'] = gun_data_totals_state['high_school_higher_p'].apply(lambda x: x/100 if x>1 else x )\n",
    "gun_data_totals_state['labor_force_p'] = gun_data_totals_state['labor_force_p'].apply(lambda x: x/100 if x>1 else x )"
   ]
  },
  {
   "cell_type": "code",
   "execution_count": 41,
   "metadata": {
    "collapsed": true
   },
   "outputs": [],
   "source": [
    "#I am assuming that some values should have a dot representing the decimals and don't so I am dividing then by 1000\n",
    "gun_data_totals_state['median_household_income'] = gun_data_totals_state['median_household_income'].apply(lambda x: x/1000 if x>100 else x )\n",
    "gun_data_totals_state['percapita_income'] = gun_data_totals_state['percapita_income'].apply(lambda x: x/1000 if x>100 else x )"
   ]
  },
  {
   "cell_type": "markdown",
   "metadata": {},
   "source": [
    "In first cell the code are keeping all the percentage data equal by letting them be represented by decimals.\n",
    "\n",
    "In the second cell I am assuming that some values should have a dot representing the decimals and don't so I am dividing then by 1000."
   ]
  },
  {
   "cell_type": "code",
   "execution_count": 42,
   "metadata": {
    "collapsed": true
   },
   "outputs": [],
   "source": [
    "gun_data_totals_state['checks_percapita'] = gun_data_totals_state['totalChecks'] / gun_data_totals_state['population_estimates']"
   ]
  },
  {
   "cell_type": "markdown",
   "metadata": {},
   "source": [
    "Creating the column checks percapita by dividing total checks by the population. I think fairly to consider the checks percapita than the total checks alone."
   ]
  },
  {
   "cell_type": "code",
   "execution_count": 43,
   "metadata": {
    "collapsed": true
   },
   "outputs": [],
   "source": [
    "#change the format of floats\n",
    "pd.options.display.float_format = '{:20,.2f}'.format"
   ]
  },
  {
   "cell_type": "markdown",
   "metadata": {},
   "source": [
    "I am changing the format of floats to analyse better."
   ]
  },
  {
   "cell_type": "markdown",
   "metadata": {},
   "source": [
    "<a id='eda'></a>\n",
    "## Exploratory Data Analysis\n",
    "\n",
    "\n",
    "### What census data is most associated with high gun per capita?"
   ]
  },
  {
   "cell_type": "markdown",
   "metadata": {},
   "source": [
    "In the graph above we can see that the distribution of checks_percapita is skewed, so I will use the median for comparison.\n"
   ]
  },
  {
   "cell_type": "code",
   "execution_count": 44,
   "metadata": {
    "collapsed": false
   },
   "outputs": [
    {
     "data": {
      "text/plain": [
       "<matplotlib.text.Text at 0x11f435f8>"
      ]
     },
     "execution_count": 44,
     "metadata": {},
     "output_type": "execute_result"
    },
    {
     "data": {
      "image/png": "[encoded data removed]",
      "text/plain": [
       "<matplotlib.figure.Figure at 0x11c94390>"
      ]
     },
     "metadata": {},
     "output_type": "display_data"
    }
   ],
   "source": [
    "f, ax = plt.subplots(figsize=(10, 15))\n",
    "t = sns.barplot(x='checks_percapita', y=gun_data_totals_state.index,data = gun_data_totals_state, color = 'b')\n",
    "ax.set(xlim=(0, 3), ylabel=\"State\",\n",
    "       xlabel=\"Checks percapita\")\n",
    "t.set_title('Checks Percapita Distribution')"
   ]
  },
  {
   "cell_type": "markdown",
   "metadata": {},
   "source": [
    "Some information about the states, which one is more and less populated and the one's who has more and less checks."
   ]
  },
  {
   "cell_type": "code",
   "execution_count": 45,
   "metadata": {
    "collapsed": false
   },
   "outputs": [
    {
     "name": "stdout",
     "output_type": "stream",
     "text": [
      "Most Populous state: California \n",
      "Less Populous state: Wyoming\n",
      "State with more gun checks:Kentucky \n",
      "State with less gun checks: Hawaii \n",
      "Max checks per capita: 2.74039829848 \n",
      "State with max checks per capita: Kentucky \n",
      "Min checks per capita: 0.0501462971139, \n",
      "State with min checks per capita: New Jersey \n",
      "\n"
     ]
    }
   ],
   "source": [
    "#Some useful information about the data\n",
    "state_bigger_population = gun_data_totals_state['population_estimates'].argmax()\n",
    "state_lower_population = gun_data_totals_state['population_estimates'].argmin()\n",
    "state_max_checks = gun_data_totals_state['totalChecks'].argmax()\n",
    "state_min_checks = gun_data_totals_state['totalChecks'].argmin()\n",
    "max_checks_per_capita = gun_data_totals_state['checks_percapita'].max()\n",
    "state_max_checks_per_capita = gun_data_totals_state['checks_percapita'].argmax()\n",
    "min_checks_per_capita = gun_data_totals_state['checks_percapita'].min()\n",
    "state_min_checks_per_capita = gun_data_totals_state['checks_percapita'].argmin()\n",
    "print 'Most Populous state: {} \\nLess Populous state: {}\\nState with more gun checks:{} \\nState with less gun checks: {} \\nMax checks per capita: {} \\nState with max checks per capita: {} \\nMin checks per capita: {}, \\nState with min checks per capita: {} \\n'.format(state_bigger_population, state_lower_population, state_max_checks, state_min_checks, max_checks_per_capita, state_max_checks_per_capita, min_checks_per_capita, state_min_checks_per_capita)"
   ]
  },
  {
   "cell_type": "markdown",
   "metadata": {},
   "source": [
    "The graph below shows the checks percapita for all the states sorted by state ascending."
   ]
  },
  {
   "cell_type": "code",
   "execution_count": 46,
   "metadata": {
    "collapsed": false
   },
   "outputs": [
    {
     "data": {
      "text/plain": [
       "<matplotlib.text.Text at 0x12cb19b0>"
      ]
     },
     "execution_count": 46,
     "metadata": {},
     "output_type": "execute_result"
    },
    {
     "data": {
      "image/png": "[encoded data removed]",
      "text/plain": [
       "<matplotlib.figure.Figure at 0x1286c240>"
      ]
     },
     "metadata": {},
     "output_type": "display_data"
    }
   ],
   "source": [
    "f, ax = plt.subplots(figsize=(10, 15))\n",
    "guns_checks_order_checks = gun_data_totals_state\n",
    "guns_checks_order_checks = gun_data_totals_state.sort_values('checks_percapita', ascending=False)\n",
    "t = sns.barplot(x='checks_percapita', y=guns_checks_order_checks.index,data = guns_checks_order_checks, color = 'b')\n",
    "ax.set(xlim=(0, 3), ylabel=\"State\",\n",
    "       xlabel=\"Checks percapita\")\n",
    "t.set_title('Checks Percapita Descending')"
   ]
  },
  {
   "cell_type": "markdown",
   "metadata": {},
   "source": [
    "### 1. What are the states with more and the less checks? "
   ]
  },
  {
   "cell_type": "code",
   "execution_count": 47,
   "metadata": {
    "collapsed": false
   },
   "outputs": [
    {
     "name": "stdout",
     "output_type": "stream",
     "text": [
      "Checks percapita for the second state with more checks, Utah 0.686617176032\n"
     ]
    }
   ],
   "source": [
    "print 'Checks percapita for the second state with more checks, Utah', gun_data_totals_state.loc['Utah','checks_percapita']"
   ]
  },
  {
   "cell_type": "markdown",
   "metadata": {},
   "source": [
    "Some information about the states with more checks percapita and less checks percapita:\n",
    "* Kentucky has 2.74 checks percapita, and can be considerated an outlier. \n",
    "* Utah who has the second position has less than 1 check percapita. \n",
    "* The mean for checks percapita for the Interquartile range is 0.34.\n",
    "* Both New Jersey and Hawaii has less than 0.1 checks and are exceptions."
   ]
  },
  {
   "cell_type": "code",
   "execution_count": 48,
   "metadata": {
    "collapsed": false
   },
   "outputs": [
    {
     "data": {
      "text/html": [
       "<div>\n",
       "<table border=\"1\" class=\"dataframe\">\n",
       "  <thead>\n",
       "    <tr style=\"text-align: right;\">\n",
       "      <th></th>\n",
       "      <th>totalChecks</th>\n",
       "      <th>population_estimates</th>\n",
       "      <th>high_school_higher_p</th>\n",
       "      <th>bachelor_degree_higher_p</th>\n",
       "      <th>labor_force_p</th>\n",
       "      <th>median_household_income</th>\n",
       "      <th>percapita_income</th>\n",
       "      <th>poverty_p</th>\n",
       "      <th>checks_percapita</th>\n",
       "    </tr>\n",
       "  </thead>\n",
       "  <tbody>\n",
       "    <tr>\n",
       "      <th>count</th>\n",
       "      <td>49.00</td>\n",
       "      <td>49.00</td>\n",
       "      <td>49.00</td>\n",
       "      <td>49.00</td>\n",
       "      <td>49.00</td>\n",
       "      <td>49.00</td>\n",
       "      <td>49.00</td>\n",
       "      <td>49.00</td>\n",
       "      <td>49.00</td>\n",
       "    </tr>\n",
       "    <tr>\n",
       "      <th>mean</th>\n",
       "      <td>1,804,157.63</td>\n",
       "      <td>6,489,987.12</td>\n",
       "      <td>0.88</td>\n",
       "      <td>0.29</td>\n",
       "      <td>0.64</td>\n",
       "      <td>54.53</td>\n",
       "      <td>28.58</td>\n",
       "      <td>0.13</td>\n",
       "      <td>0.34</td>\n",
       "    </tr>\n",
       "    <tr>\n",
       "      <th>std</th>\n",
       "      <td>1,656,170.54</td>\n",
       "      <td>7,341,267.64</td>\n",
       "      <td>0.03</td>\n",
       "      <td>0.05</td>\n",
       "      <td>0.04</td>\n",
       "      <td>8.91</td>\n",
       "      <td>4.10</td>\n",
       "      <td>0.03</td>\n",
       "      <td>0.15</td>\n",
       "    </tr>\n",
       "    <tr>\n",
       "      <th>min</th>\n",
       "      <td>77,994.00</td>\n",
       "      <td>585,501.00</td>\n",
       "      <td>0.82</td>\n",
       "      <td>0.19</td>\n",
       "      <td>0.54</td>\n",
       "      <td>39.66</td>\n",
       "      <td>21.06</td>\n",
       "      <td>0.07</td>\n",
       "      <td>0.05</td>\n",
       "    </tr>\n",
       "    <tr>\n",
       "      <th>25%</th>\n",
       "      <td>630,800.00</td>\n",
       "      <td>1,831,102.00</td>\n",
       "      <td>0.86</td>\n",
       "      <td>0.26</td>\n",
       "      <td>0.61</td>\n",
       "      <td>47.58</td>\n",
       "      <td>25.74</td>\n",
       "      <td>0.11</td>\n",
       "      <td>0.23</td>\n",
       "    </tr>\n",
       "    <tr>\n",
       "      <th>50%</th>\n",
       "      <td>1,295,949.00</td>\n",
       "      <td>4,681,666.00</td>\n",
       "      <td>0.89</td>\n",
       "      <td>0.28</td>\n",
       "      <td>0.64</td>\n",
       "      <td>53.00</td>\n",
       "      <td>27.68</td>\n",
       "      <td>0.13</td>\n",
       "      <td>0.34</td>\n",
       "    </tr>\n",
       "    <tr>\n",
       "      <th>75%</th>\n",
       "      <td>2,412,865.00</td>\n",
       "      <td>7,288,000.00</td>\n",
       "      <td>0.91</td>\n",
       "      <td>0.32</td>\n",
       "      <td>0.67</td>\n",
       "      <td>60.63</td>\n",
       "      <td>31.12</td>\n",
       "      <td>0.15</td>\n",
       "      <td>0.42</td>\n",
       "    </tr>\n",
       "    <tr>\n",
       "      <th>max</th>\n",
       "      <td>7,265,055.00</td>\n",
       "      <td>39,250,017.00</td>\n",
       "      <td>0.93</td>\n",
       "      <td>0.41</td>\n",
       "      <td>0.70</td>\n",
       "      <td>74.55</td>\n",
       "      <td>38.80</td>\n",
       "      <td>0.21</td>\n",
       "      <td>0.69</td>\n",
       "    </tr>\n",
       "  </tbody>\n",
       "</table>\n",
       "</div>"
      ],
      "text/plain": [
       "               totalChecks  population_estimates  high_school_higher_p  \\\n",
       "count                49.00                 49.00                 49.00   \n",
       "mean          1,804,157.63          6,489,987.12                  0.88   \n",
       "std           1,656,170.54          7,341,267.64                  0.03   \n",
       "min              77,994.00            585,501.00                  0.82   \n",
       "25%             630,800.00          1,831,102.00                  0.86   \n",
       "50%           1,295,949.00          4,681,666.00                  0.89   \n",
       "75%           2,412,865.00          7,288,000.00                  0.91   \n",
       "max           7,265,055.00         39,250,017.00                  0.93   \n",
       "\n",
       "       bachelor_degree_higher_p        labor_force_p  median_household_income  \\\n",
       "count                     49.00                49.00                    49.00   \n",
       "mean                       0.29                 0.64                    54.53   \n",
       "std                        0.05                 0.04                     8.91   \n",
       "min                        0.19                 0.54                    39.66   \n",
       "25%                        0.26                 0.61                    47.58   \n",
       "50%                        0.28                 0.64                    53.00   \n",
       "75%                        0.32                 0.67                    60.63   \n",
       "max                        0.41                 0.70                    74.55   \n",
       "\n",
       "          percapita_income            poverty_p     checks_percapita  \n",
       "count                49.00                49.00                49.00  \n",
       "mean                 28.58                 0.13                 0.34  \n",
       "std                   4.10                 0.03                 0.15  \n",
       "min                  21.06                 0.07                 0.05  \n",
       "25%                  25.74                 0.11                 0.23  \n",
       "50%                  27.68                 0.13                 0.34  \n",
       "75%                  31.12                 0.15                 0.42  \n",
       "max                  38.80                 0.21                 0.69  "
      ]
     },
     "execution_count": 48,
     "metadata": {},
     "output_type": "execute_result"
    }
   ],
   "source": [
    "#Creating a dataset without outiliers in checks percapita\n",
    "gun_checks_states_IQR = gun_data_totals_state\n",
    "\n",
    "def remove_outlier(df_in, col_name):\n",
    "    q1 = df_in[col_name].quantile(0.25)    \n",
    "    q3 = df_in[col_name].quantile(0.75)    \n",
    "    iqr = q3-q1 #Interquartile range    \n",
    "    fence_low  = q1-1.5*iqr    \n",
    "    fence_high = q3+1.5*iqr    \n",
    "    df_out = df_in.loc[(df_in[col_name] > fence_low) & (df_in[col_name] < fence_high)]    \n",
    "    return df_out\n",
    "\n",
    "gun_checks_states_IQR = remove_outlier(gun_checks_states_IQR, 'checks_percapita')\n",
    "gun_checks_states_IQR.describe()"
   ]
  },
  {
   "cell_type": "markdown",
   "metadata": {},
   "source": [
    "Another dataset was created deleting the outlier value for checks percapita. The analysis are going to be performed in both datasets the IQR for checks percapita and the full."
   ]
  },
  {
   "cell_type": "code",
   "execution_count": 49,
   "metadata": {
    "collapsed": true
   },
   "outputs": [],
   "source": [
    "from IPython.display import display, Markdown\n",
    "\n",
    "#function to print information about the state with highest and lowest data about the column c \n",
    "#the p argument it is to inform if the column is a percent or not        \n",
    "def information_complete(c, p):\n",
    "    print 'Full Dataset:\\n'\n",
    "    state_highest_c = gun_data_totals_state[c].argmax()       \n",
    "    checks_per_capita_highest_c = gun_data_totals_state.loc[gun_data_totals_state[c].argmax(), ['checks_percapita']].item()\n",
    "    state_lowest_c = gun_data_totals_state[c].argmin()\n",
    "    checks_per_capita_lowest_c = gun_data_totals_state.loc[gun_data_totals_state[c].argmin(), ['checks_percapita']].item()\n",
    "    if p:\n",
    "        min_c = gun_data_totals_state[c].min()*100\n",
    "        max_c = gun_data_totals_state[c].max()*100\n",
    "        print 'Highest {} state: {} {}%\\nChecks percapita state: {} \\nLowest {} state: {} {}%\\nChecks percapita state: {}\\n'.format(c,state_highest_c, max_c, checks_per_capita_highest_c, c, state_lowest_c,min_c, checks_per_capita_lowest_c)\n",
    "    else:\n",
    "        min_c = gun_data_totals_state[c].min()\n",
    "        max_c = gun_data_totals_state[c].max()\n",
    "        print 'Highest {} state: {} ${}\\nChecks percapita state: {} \\nLowest {} state: {} ${}\\nChecks percapita state: {}\\n'.format(c,state_highest_c, max_c, checks_per_capita_highest_c, c, state_lowest_c,min_c, checks_per_capita_lowest_c)\n",
    "        \n",
    "    print 'IQR Dataset:\\n'\n",
    "    state_highest_c = gun_checks_states_IQR[c].argmax()       \n",
    "    checks_per_capita_highest_c = gun_checks_states_IQR.loc[gun_checks_states_IQR[c].argmax(), ['checks_percapita']].item()\n",
    "    state_lowest_c = gun_checks_states_IQR[c].argmin()\n",
    "    checks_per_capita_lowest_c = gun_checks_states_IQR.loc[gun_checks_states_IQR[c].argmin(), ['checks_percapita']].item()\n",
    "    if p:\n",
    "        min_c = gun_checks_states_IQR[c].min()*100\n",
    "        max_c = gun_checks_states_IQR[c].max()*100\n",
    "        print 'Highest {} state: {} {}%\\nChecks percapita state: {} \\nLowest {} state: {} {}%\\nChecks percapita state: {}\\n'.format(c,state_highest_c, max_c, checks_per_capita_highest_c, c, state_lowest_c,min_c, checks_per_capita_lowest_c)\n",
    "    else:\n",
    "        min_c = gun_data_totals_state[c].min()\n",
    "        max_c = gun_data_totals_state[c].max()\n",
    "        print 'Highest {} state: {} ${}\\nChecks percapita state: {} \\nLowest {} state: {} ${}\\nChecks percapita state: {}\\n'.format(c,state_highest_c, max_c, checks_per_capita_highest_c, c, state_lowest_c,min_c, checks_per_capita_lowest_c)\n",
    "        \n",
    "    median_checks_percapita_fd = gun_data_totals_state['checks_percapita'].median()\n",
    "    median_checks_percapita_iqrd = gun_checks_states_IQR['checks_percapita'].median()\n",
    "    \n",
    "    #all the states with c higher than median \n",
    "    gun_data_c_hm = gun_data_totals_state.loc[gun_data_totals_state[c]>gun_data_totals_state[c].median(), ['checks_percapita']]\n",
    "    median_checks_c_hm = gun_data_c_hm['checks_percapita'].median()\n",
    "    \n",
    "    #iqr states with higher higher than median \n",
    "    gun_data_c_hm = gun_checks_states_IQR.loc[gun_checks_states_IQR[c]>gun_checks_states_IQR[c].median(), ['checks_percapita']]\n",
    "    median_checks_c_hm_iqr = gun_data_c_hm['checks_percapita'].median()    \n",
    "    \n",
    "    #all the states with c lower than median \n",
    "    gun_data_c_lm = gun_data_totals_state.loc[gun_data_totals_state[c]<gun_data_totals_state[c].median(), ['checks_percapita']]\n",
    "    median_checks_c_lm = gun_data_c_lm['checks_percapita'].median()\n",
    "    \n",
    "    #iqr states with higher lower than median \n",
    "    gun_data_c_lm = gun_checks_states_IQR.loc[gun_checks_states_IQR[c]<gun_checks_states_IQR[c].median(), ['checks_percapita']]\n",
    "    median_checks_c_lm_iqr = gun_data_c_lm['checks_percapita'].median()        \n",
    "        \n",
    "    print 'Comparisons using mesurings of central tendencies: \\n'\n",
    "    display(Markdown(\"\"\"\n",
    "                The median of checks percapita in the states with {c} higher than average is lower than the median for all states?\n",
    "                \n",
    "\n",
    "                * Median for all states in full dataset : {median_checks_percapita_fd}\n",
    "                * Median for all states in IQR dataset : {median_checks_percapita_iqrd}\n",
    "\n",
    "                Full dataset:\n",
    "                * Median for states with {c} higher than average: {median_checks_c_hm}\n",
    "\n",
    "                IQR dataset:\n",
    "                * Median for states with with {c} higher than average: {median_checks_c_hm_iqr}\n",
    "\n",
    "                The median of checks percapita in the states with {c} lower than average is higher than the median for all states?                \n",
    "\n",
    "                Full dataset:\n",
    "                * Median for states with {c} lower than average: {median_checks_c_lm}\n",
    "\n",
    "                IQR dataset:\n",
    "                * Median for states with with {c} lower than average: {median_checks_c_lm_iqr}\n",
    "    \"\"\".format(median_checks_percapita_fd=median_checks_percapita_fd, median_checks_percapita_iqrd=median_checks_percapita_iqrd, c=c, median_checks_c_hm=median_checks_c_hm, median_checks_c_hm_iqr=median_checks_c_hm_iqr, median_checks_c_lm=median_checks_c_lm, median_checks_c_lm_iqr=median_checks_c_lm_iqr)))\n"
   ]
  },
  {
   "cell_type": "markdown",
   "metadata": {},
   "source": [
    "A function to print information about the state with highest and lowest data about the column c. The p argument it is to inform if the column is a percent or not."
   ]
  },
  {
   "cell_type": "code",
   "execution_count": 50,
   "metadata": {
    "collapsed": false
   },
   "outputs": [
    {
     "data": {
      "text/plain": [
       "totalChecks                       12,159,076.00\n",
       "population_estimates               4,436,974.00\n",
       "high_school_higher_p                       0.84\n",
       "bachelor_degree_higher_p                   0.22\n",
       "labor_force_p                              0.59\n",
       "median_household_income                   43.74\n",
       "percapita_income                          24.06\n",
       "poverty_p                                  0.18\n",
       "checks_percapita                           2.74\n",
       "Name: Kentucky, dtype: float64"
      ]
     },
     "execution_count": 50,
     "metadata": {},
     "output_type": "execute_result"
    }
   ],
   "source": [
    "#Data about the states with the highest checks percapita\n",
    "gun_data_totals_state.ix[gun_data_totals_state['checks_percapita'].argmax()]"
   ]
  },
  {
   "cell_type": "code",
   "execution_count": 51,
   "metadata": {
    "collapsed": false
   },
   "outputs": [
    {
     "data": {
      "text/plain": [
       "totalChecks                        2,095,018.00\n",
       "population_estimates               3,051,217.00\n",
       "high_school_higher_p                       0.91\n",
       "bachelor_degree_higher_p                   0.31\n",
       "labor_force_p                              0.68\n",
       "median_household_income                   60.73\n",
       "percapita_income                          24.69\n",
       "poverty_p                                  0.10\n",
       "checks_percapita                           0.69\n",
       "Name: Utah, dtype: float64"
      ]
     },
     "execution_count": 51,
     "metadata": {},
     "output_type": "execute_result"
    }
   ],
   "source": [
    "#Data about the state in the second position for checks percapita\n",
    "gun_data_totals_state.loc['Utah']"
   ]
  },
  {
   "cell_type": "code",
   "execution_count": 52,
   "metadata": {
    "collapsed": false
   },
   "outputs": [
    {
     "data": {
      "text/plain": [
       "totalChecks                          448,532.00\n",
       "population_estimates               8,944,469.00\n",
       "high_school_higher_p                       0.89\n",
       "bachelor_degree_higher_p                   0.37\n",
       "labor_force_p                              0.66\n",
       "median_household_income                   72.09\n",
       "percapita_income                          36.58\n",
       "poverty_p                                  0.10\n",
       "checks_percapita                           0.05\n",
       "Name: New Jersey, dtype: float64"
      ]
     },
     "execution_count": 52,
     "metadata": {},
     "output_type": "execute_result"
    }
   ],
   "source": [
    "#Data about the states with the lowest checks percapita\n",
    "gun_data_totals_state.ix[gun_data_totals_state['checks_percapita'].argmin()]"
   ]
  },
  {
   "cell_type": "code",
   "execution_count": 53,
   "metadata": {
    "collapsed": false
   },
   "outputs": [
    {
     "data": {
      "text/plain": [
       "totalChecks                           77,994.00\n",
       "population_estimates               1,428,557.00\n",
       "high_school_higher_p                       0.91\n",
       "bachelor_degree_higher_p                   0.31\n",
       "labor_force_p                              0.61\n",
       "median_household_income                   69.52\n",
       "percapita_income                          29.82\n",
       "poverty_p                                  0.09\n",
       "checks_percapita                           0.05\n",
       "Name: Hawaii, dtype: float64"
      ]
     },
     "execution_count": 53,
     "metadata": {},
     "output_type": "execute_result"
    }
   ],
   "source": [
    "gun_data_totals_state.loc['Hawaii']"
   ]
  },
  {
   "cell_type": "markdown",
   "metadata": {},
   "source": [
    "### 2 - The more educated are the people the less guns they will buy?"
   ]
  },
  {
   "cell_type": "code",
   "execution_count": 54,
   "metadata": {
    "collapsed": false
   },
   "outputs": [
    {
     "data": {
      "text/plain": [
       "count                  50.00\n",
       "mean                    0.88\n",
       "std                     0.03\n",
       "min                     0.82\n",
       "25%                     0.86\n",
       "50%                     0.89\n",
       "75%                     0.91\n",
       "max                     0.93\n",
       "Name: high_school_higher_p, dtype: float64"
      ]
     },
     "execution_count": 54,
     "metadata": {},
     "output_type": "execute_result"
    }
   ],
   "source": [
    "gun_data_totals_state['high_school_higher_p'].describe()"
   ]
  },
  {
   "cell_type": "code",
   "execution_count": 55,
   "metadata": {
    "collapsed": false
   },
   "outputs": [
    {
     "data": {
      "text/plain": [
       "0.8885"
      ]
     },
     "execution_count": 55,
     "metadata": {},
     "output_type": "execute_result"
    }
   ],
   "source": [
    "gun_data_totals_state['high_school_higher_p'].median()"
   ]
  },
  {
   "cell_type": "code",
   "execution_count": 56,
   "metadata": {
    "collapsed": false
   },
   "outputs": [
    {
     "data": {
      "text/plain": [
       "0.891"
      ]
     },
     "execution_count": 56,
     "metadata": {},
     "output_type": "execute_result"
    }
   ],
   "source": [
    "gun_checks_states_IQR['high_school_higher_p'].median()"
   ]
  },
  {
   "cell_type": "code",
   "execution_count": 57,
   "metadata": {
    "collapsed": false
   },
   "outputs": [
    {
     "name": "stdout",
     "output_type": "stream",
     "text": [
      "Full Dataset:\n",
      "\n",
      "Highest high_school_higher_p state: Montana 92.8%\n",
      "Checks percapita state: 0.605072324752 \n",
      "Lowest high_school_higher_p state: California 81.8%\n",
      "Checks percapita state: 0.169230347085\n",
      "\n",
      "IQR Dataset:\n",
      "\n",
      "Highest high_school_higher_p state: Montana 92.8%\n",
      "Checks percapita state: 0.605072324752 \n",
      "Lowest high_school_higher_p state: California 81.8%\n",
      "Checks percapita state: 0.169230347085\n",
      "\n",
      "Comparisons using mesurings of central tendencies: \n",
      "\n"
     ]
    },
    {
     "data": {
      "text/markdown": [
       "\n",
       "                The median of checks percapita in the states with high_school_higher_p higher than average is lower than the median for all states?\n",
       "                \n",
       "\n",
       "                * Median for all states in full dataset : 0.336950642801\n",
       "                * Median for all states in IQR dataset : 0.336478673087\n",
       "\n",
       "                Full dataset:\n",
       "                * Median for states with high_school_higher_p higher than average: 0.337422612514\n",
       "\n",
       "                IQR dataset:\n",
       "                * Median for states with with high_school_higher_p higher than average: 0.349593146043\n",
       "\n",
       "                The median of checks percapita in the states with high_school_higher_p lower than average is higher than the median for all states?                \n",
       "\n",
       "                Full dataset:\n",
       "                * Median for states with high_school_higher_p lower than average: 0.310774700329\n",
       "\n",
       "                IQR dataset:\n",
       "                * Median for states with with high_school_higher_p lower than average: 0.305583606291\n",
       "    "
      ],
      "text/plain": [
       "<IPython.core.display.Markdown object>"
      ]
     },
     "metadata": {},
     "output_type": "display_data"
    }
   ],
   "source": [
    "information_complete('high_school_higher_p', True)"
   ]
  },
  {
   "cell_type": "markdown",
   "metadata": {},
   "source": [
    "The state with most people with high school or higher did more checks than the state with less people with high school or higher. The median of people who has a high school degree or higher are high, and the standard deviation is low. The data remain very similar for all the states.\n"
   ]
  },
  {
   "cell_type": "code",
   "execution_count": 58,
   "metadata": {
    "collapsed": false
   },
   "outputs": [
    {
     "name": "stdout",
     "output_type": "stream",
     "text": [
      "Full Dataset:\n",
      "\n",
      "Highest bachelor_degree_higher_p state: Massachusetts 40.5%\n",
      "Checks percapita state: 0.141215679487 \n",
      "Lowest bachelor_degree_higher_p state: West Virginia 19.2%\n",
      "Checks percapita state: 0.617597490473\n",
      "\n",
      "IQR Dataset:\n",
      "\n",
      "Highest bachelor_degree_higher_p state: Massachusetts 40.5%\n",
      "Checks percapita state: 0.141215679487 \n",
      "Lowest bachelor_degree_higher_p state: West Virginia 19.2%\n",
      "Checks percapita state: 0.617597490473\n",
      "\n",
      "Comparisons using mesurings of central tendencies: \n",
      "\n"
     ]
    },
    {
     "data": {
      "text/markdown": [
       "\n",
       "                The median of checks percapita in the states with bachelor_degree_higher_p higher than average is lower than the median for all states?\n",
       "                \n",
       "\n",
       "                * Median for all states in full dataset : 0.336950642801\n",
       "                * Median for all states in IQR dataset : 0.336478673087\n",
       "\n",
       "                Full dataset:\n",
       "                * Median for states with bachelor_degree_higher_p higher than average: 0.310322428554\n",
       "\n",
       "                IQR dataset:\n",
       "                * Median for states with with bachelor_degree_higher_p higher than average: 0.286465709677\n",
       "\n",
       "                The median of checks percapita in the states with bachelor_degree_higher_p lower than average is higher than the median for all states?                \n",
       "\n",
       "                Full dataset:\n",
       "                * Median for states with bachelor_degree_higher_p lower than average: 0.39169647207\n",
       "\n",
       "                IQR dataset:\n",
       "                * Median for states with with bachelor_degree_higher_p lower than average: 0.380921742271\n",
       "    "
      ],
      "text/plain": [
       "<IPython.core.display.Markdown object>"
      ]
     },
     "metadata": {},
     "output_type": "display_data"
    }
   ],
   "source": [
    "information_complete('bachelor_degree_higher_p', True)"
   ]
  },
  {
   "cell_type": "markdown",
   "metadata": {
    "collapsed": true
   },
   "source": [
    "The difference between the checks percapita in the state with most people with bachelor degree or higher and the state with less people with bachelor degree or higher is about 47%. \n",
    "States with bachelor degree or higher more than average did about 10% less checks than the states with Bachelor Degree or higher less than average."
   ]
  },
  {
   "cell_type": "markdown",
   "metadata": {},
   "source": [
    "### 3. The more wealthy are people the less guns they will need?"
   ]
  },
  {
   "cell_type": "markdown",
   "metadata": {
    "collapsed": true
   },
   "source": [
    "The dataset have some data about economic factors that may contribute for the number of checks percapita.\n",
    "* Poverty percent\n",
    "* Labor force percent\n",
    "* Median household income\n",
    "* Income percapita\n",
    "\n",
    "We will analyse one by one and find out which one is related to checks percapita.\n"
   ]
  },
  {
   "cell_type": "code",
   "execution_count": 59,
   "metadata": {
    "collapsed": false
   },
   "outputs": [
    {
     "name": "stdout",
     "output_type": "stream",
     "text": [
      "count                  49.00\n",
      "mean                    0.13\n",
      "std                     0.03\n",
      "min                     0.07\n",
      "25%                     0.11\n",
      "50%                     0.13\n",
      "75%                     0.15\n",
      "max                     0.21\n",
      "Name: poverty_p, dtype: float64\n",
      "0.000878139455782\n",
      "0.133\n"
     ]
    }
   ],
   "source": [
    "print gun_checks_states_IQR['poverty_p'].describe()\n",
    "print gun_checks_states_IQR['poverty_p'].var()\n",
    "print gun_checks_states_IQR['poverty_p'].median()"
   ]
  },
  {
   "cell_type": "code",
   "execution_count": 60,
   "metadata": {
    "collapsed": false
   },
   "outputs": [
    {
     "name": "stdout",
     "output_type": "stream",
     "text": [
      "Full Dataset:\n",
      "\n",
      "Highest poverty_p state: Mississippi 20.8%\n",
      "Checks percapita state: 0.370147012473 \n",
      "Lowest poverty_p state: New Hampshire 7.3%\n",
      "Checks percapita state: 0.470769668751\n",
      "\n",
      "IQR Dataset:\n",
      "\n",
      "Highest poverty_p state: Mississippi 20.8%\n",
      "Checks percapita state: 0.370147012473 \n",
      "Lowest poverty_p state: New Hampshire 7.3%\n",
      "Checks percapita state: 0.470769668751\n",
      "\n",
      "Comparisons using mesurings of central tendencies: \n",
      "\n"
     ]
    },
    {
     "data": {
      "text/markdown": [
       "\n",
       "                The median of checks percapita in the states with poverty_p higher than average is lower than the median for all states?\n",
       "                \n",
       "\n",
       "                * Median for all states in full dataset : 0.336950642801\n",
       "                * Median for all states in IQR dataset : 0.336478673087\n",
       "\n",
       "                Full dataset:\n",
       "                * Median for states with poverty_p higher than average: 0.337846675781\n",
       "\n",
       "                IQR dataset:\n",
       "                * Median for states with with poverty_p higher than average: 0.324310688055\n",
       "\n",
       "                The median of checks percapita in the states with poverty_p lower than average is higher than the median for all states?                \n",
       "\n",
       "                Full dataset:\n",
       "                * Median for states with poverty_p lower than average: 0.333685736953\n",
       "\n",
       "                IQR dataset:\n",
       "                * Median for states with with poverty_p lower than average: 0.333685736953\n",
       "    "
      ],
      "text/plain": [
       "<IPython.core.display.Markdown object>"
      ]
     },
     "metadata": {},
     "output_type": "display_data"
    }
   ],
   "source": [
    "information_complete('poverty_p', True)"
   ]
  },
  {
   "cell_type": "markdown",
   "metadata": {},
   "source": [
    "The state with the lower percentage of poor people has more checks than the state with the higher percentage. All the median are almost the same than the general one."
   ]
  },
  {
   "cell_type": "code",
   "execution_count": 61,
   "metadata": {
    "collapsed": false
   },
   "outputs": [
    {
     "name": "stdout",
     "output_type": "stream",
     "text": [
      "Full Dataset:\n",
      "\n",
      "Highest labor_force_p state: Minnesota 70.0%\n",
      "Checks percapita state: 0.417515587092 \n",
      "Lowest labor_force_p state: West Virginia 53.9%\n",
      "Checks percapita state: 0.617597490473\n",
      "\n",
      "IQR Dataset:\n",
      "\n",
      "Highest labor_force_p state: Minnesota 70.0%\n",
      "Checks percapita state: 0.417515587092 \n",
      "Lowest labor_force_p state: West Virginia 53.9%\n",
      "Checks percapita state: 0.617597490473\n",
      "\n",
      "Comparisons using mesurings of central tendencies: \n",
      "\n"
     ]
    },
    {
     "data": {
      "text/markdown": [
       "\n",
       "                The median of checks percapita in the states with labor_force_p higher than average is lower than the median for all states?\n",
       "                \n",
       "\n",
       "                * Median for all states in full dataset : 0.336950642801\n",
       "                * Median for all states in IQR dataset : 0.336478673087\n",
       "\n",
       "                Full dataset:\n",
       "                * Median for states with labor_force_p higher than average: 0.337422612514\n",
       "\n",
       "                IQR dataset:\n",
       "                * Median for states with with labor_force_p higher than average: 0.349417358785\n",
       "\n",
       "                The median of checks percapita in the states with labor_force_p lower than average is higher than the median for all states?                \n",
       "\n",
       "                Full dataset:\n",
       "                * Median for states with labor_force_p lower than average: 0.330121616638\n",
       "\n",
       "                IQR dataset:\n",
       "                * Median for states with with labor_force_p lower than average: 0.320448158484\n",
       "    "
      ],
      "text/plain": [
       "<IPython.core.display.Markdown object>"
      ]
     },
     "metadata": {},
     "output_type": "display_data"
    }
   ],
   "source": [
    "information_complete('labor_force_p', True)"
   ]
  },
  {
   "cell_type": "markdown",
   "metadata": {},
   "source": [
    "When we look to the data about the states with the higher and lower working force we observe an impact in checks percapita. The state with the lower rate of people working did about 20% more checks than the state with the higher rate of people working. The median of checks for states with labor force higher than average in IQR dataset is 1% higher than for all states, and the median of checks for states with labor force lower than average in IQR is 1% lower than average."
   ]
  },
  {
   "cell_type": "code",
   "execution_count": 62,
   "metadata": {
    "collapsed": false
   },
   "outputs": [
    {
     "name": "stdout",
     "output_type": "stream",
     "text": [
      "count                  50.00\n",
      "mean                   54.31\n",
      "std                     8.95\n",
      "min                    39.66\n",
      "25%                    47.53\n",
      "50%                    52.60\n",
      "75%                    60.60\n",
      "max                    74.55\n",
      "Name: median_household_income, dtype: float64\n",
      "count                  49.00\n",
      "mean                   54.53\n",
      "std                     8.91\n",
      "min                    39.66\n",
      "25%                    47.58\n",
      "50%                    53.00\n",
      "75%                    60.63\n",
      "max                    74.55\n",
      "Name: median_household_income, dtype: float64\n",
      "52.601\n",
      "80.0940713882\n"
     ]
    }
   ],
   "source": [
    "print gun_data_totals_state['median_household_income'].describe()\n",
    "print gun_checks_states_IQR['median_household_income'].describe()\n",
    "print gun_data_totals_state['median_household_income'].median()\n",
    "print gun_data_totals_state['median_household_income'].var()"
   ]
  },
  {
   "cell_type": "code",
   "execution_count": 63,
   "metadata": {
    "collapsed": false
   },
   "outputs": [
    {
     "name": "stdout",
     "output_type": "stream",
     "text": [
      "Full Dataset:\n",
      "\n",
      "Highest median_household_income state: Maryland $74.551\n",
      "Checks percapita state: 0.12278126941 \n",
      "Lowest median_household_income state: Mississippi $39.665\n",
      "Checks percapita state: 0.370147012473\n",
      "\n",
      "IQR Dataset:\n",
      "\n",
      "Highest median_household_income state: Maryland $74.551\n",
      "Checks percapita state: 0.12278126941 \n",
      "Lowest median_household_income state: Mississippi $39.665\n",
      "Checks percapita state: 0.370147012473\n",
      "\n",
      "Comparisons using mesurings of central tendencies: \n",
      "\n"
     ]
    },
    {
     "data": {
      "text/markdown": [
       "\n",
       "                The median of checks percapita in the states with median_household_income higher than average is lower than the median for all states?\n",
       "                \n",
       "\n",
       "                * Median for all states in full dataset : 0.336950642801\n",
       "                * Median for all states in IQR dataset : 0.336478673087\n",
       "\n",
       "                Full dataset:\n",
       "                * Median for states with median_household_income higher than average: 0.2626089908\n",
       "\n",
       "                IQR dataset:\n",
       "                * Median for states with with median_household_income higher than average: 0.299543831944\n",
       "\n",
       "                The median of checks percapita in the states with median_household_income lower than average is higher than the median for all states?                \n",
       "\n",
       "                Full dataset:\n",
       "                * Median for states with median_household_income lower than average: 0.348559038599\n",
       "\n",
       "                IQR dataset:\n",
       "                * Median for states with with median_household_income lower than average: 0.34320285719\n",
       "    "
      ],
      "text/plain": [
       "<IPython.core.display.Markdown object>"
      ]
     },
     "metadata": {},
     "output_type": "display_data"
    }
   ],
   "source": [
    "information_complete('median_household_income', False)"
   ]
  },
  {
   "cell_type": "markdown",
   "metadata": {},
   "source": [
    "When you look to the data about the states with high and low median household income we observe an impact in checks percapita. The state with the highest household income has 25% less checks than the lowest household income state.\n",
    "\n",
    "The difference in checks percapita for the states with median household income higher than average and lower than average is about 5%."
   ]
  },
  {
   "cell_type": "code",
   "execution_count": 64,
   "metadata": {
    "collapsed": false
   },
   "outputs": [
    {
     "name": "stdout",
     "output_type": "stream",
     "text": [
      "count                  50.00\n",
      "mean                   28.49\n",
      "std                     4.10\n",
      "min                    21.06\n",
      "25%                    25.44\n",
      "50%                    27.67\n",
      "75%                    30.98\n",
      "max                    38.80\n",
      "Name: percapita_income, dtype: float64\n",
      "count                  49.00\n",
      "mean                   28.58\n",
      "std                     4.10\n",
      "min                    21.06\n",
      "25%                    25.74\n",
      "50%                    27.68\n",
      "75%                    31.12\n",
      "max                    38.80\n",
      "Name: percapita_income, dtype: float64\n",
      "27.6695\n",
      "16.836943971\n"
     ]
    }
   ],
   "source": [
    "print gun_data_totals_state['percapita_income'].describe()\n",
    "print gun_checks_states_IQR['percapita_income'].describe()\n",
    "print gun_data_totals_state['percapita_income'].median()\n",
    "print gun_data_totals_state['percapita_income'].var()"
   ]
  },
  {
   "cell_type": "code",
   "execution_count": 65,
   "metadata": {
    "collapsed": false
   },
   "outputs": [
    {
     "name": "stdout",
     "output_type": "stream",
     "text": [
      "Full Dataset:\n",
      "\n",
      "Highest percapita_income state: Connecticut $38.803\n",
      "Checks percapita state: 0.362356044482 \n",
      "Lowest percapita_income state: Mississippi $21.057\n",
      "Checks percapita state: 0.370147012473\n",
      "\n",
      "IQR Dataset:\n",
      "\n",
      "Highest percapita_income state: Connecticut $38.803\n",
      "Checks percapita state: 0.362356044482 \n",
      "Lowest percapita_income state: Mississippi $21.057\n",
      "Checks percapita state: 0.370147012473\n",
      "\n",
      "Comparisons using mesurings of central tendencies: \n",
      "\n"
     ]
    },
    {
     "data": {
      "text/markdown": [
       "\n",
       "                The median of checks percapita in the states with percapita_income higher than average is lower than the median for all states?\n",
       "                \n",
       "\n",
       "                * Median for all states in full dataset : 0.336950642801\n",
       "                * Median for all states in IQR dataset : 0.336478673087\n",
       "\n",
       "                Full dataset:\n",
       "                * Median for states with percapita_income higher than average: 0.310322428554\n",
       "\n",
       "                IQR dataset:\n",
       "                * Median for states with with percapita_income higher than average: 0.29675089581\n",
       "\n",
       "                The median of checks percapita in the states with percapita_income lower than average is higher than the median for all states?                \n",
       "\n",
       "                Full dataset:\n",
       "                * Median for states with percapita_income lower than average: 0.370147012473\n",
       "\n",
       "                IQR dataset:\n",
       "                * Median for states with with percapita_income lower than average: 0.359353025536\n",
       "    "
      ],
      "text/plain": [
       "<IPython.core.display.Markdown object>"
      ]
     },
     "metadata": {},
     "output_type": "display_data"
    }
   ],
   "source": [
    "information_complete('percapita_income', False)"
   ]
  },
  {
   "cell_type": "markdown",
   "metadata": {},
   "source": [
    "When you look to the data about the states with high and low percapita income we observe a low impact in checks percapita. The state with the highest percapita income has 1% less checks than the lowest percapita income state.\n",
    "\n",
    "The difference in checks percapita for the states with percapita income higher than average and lower than average is about 6%."
   ]
  },
  {
   "cell_type": "markdown",
   "metadata": {},
   "source": [
    "### Joining the combination of factors with most impact in checks percapita (Bachelor Degree or Higher, Labor Force and Median Household Income)"
   ]
  },
  {
   "cell_type": "code",
   "execution_count": 66,
   "metadata": {
    "collapsed": false
   },
   "outputs": [
    {
     "name": "stdout",
     "output_type": "stream",
     "text": [
      "count                  49.00\n",
      "mean                    0.29\n",
      "std                     0.05\n",
      "min                     0.19\n",
      "25%                     0.26\n",
      "50%                     0.28\n",
      "75%                     0.32\n",
      "max                     0.41\n",
      "Name: bachelor_degree_higher_p, dtype: float64\n",
      "count                  49.00\n",
      "mean                    0.64\n",
      "std                     0.04\n",
      "min                     0.54\n",
      "25%                     0.61\n",
      "50%                     0.64\n",
      "75%                     0.67\n",
      "max                     0.70\n",
      "Name: labor_force_p, dtype: float64\n",
      "count                  49.00\n",
      "mean                   54.53\n",
      "std                     8.91\n",
      "min                    39.66\n",
      "25%                    47.58\n",
      "50%                    53.00\n",
      "75%                    60.63\n",
      "max                    74.55\n",
      "Name: median_household_income, dtype: float64\n"
     ]
    }
   ],
   "source": [
    "print gun_checks_states_IQR['bachelor_degree_higher_p'].describe()\n",
    "print gun_checks_states_IQR['labor_force_p'].describe()\n",
    "print gun_checks_states_IQR['median_household_income'].describe()"
   ]
  },
  {
   "cell_type": "code",
   "execution_count": 67,
   "metadata": {
    "collapsed": false
   },
   "outputs": [
    {
     "name": "stdout",
     "output_type": "stream",
     "text": [
      "Full Database \n",
      "Median checks percapita for states with bachelor degree or higher, labor force percent and median household income less than average:\n",
      "0.380921742271\n",
      "Median checks percapita for states with bachelor degree or higher, labor force percent and median household income high than average:\n",
      "0.300015801657\n",
      "\n",
      "\n",
      "IQR Database \n",
      "Median checks percapita for states with bachelor degree or higher, labor force percent and median household income less than average:\n",
      "0.370147012473\n",
      "Median checks percapita for states with bachelor degree or higher, labor force percent and median household income high than average:\n",
      "0.312482517641\n"
     ]
    }
   ],
   "source": [
    "print 'Full Database '\n",
    "print'Median checks percapita for states with bachelor degree or higher, labor force percent and median household income less than average:'\n",
    "gun_join_b_l_m = gun_data_totals_state.loc[(gun_data_totals_state['labor_force_p']<gun_data_totals_state['labor_force_p'].median()) & (gun_data_totals_state['bachelor_degree_higher_p']<gun_data_totals_state['bachelor_degree_higher_p'].median()) & (gun_data_totals_state['median_household_income']<gun_data_totals_state['median_household_income'].median()) , ['checks_percapita']]\n",
    "print gun_join_b_l_m['checks_percapita'].median()\n",
    "\n",
    "print'Median checks percapita for states with bachelor degree or higher, labor force percent and median household income high than average:'\n",
    "gun_join_b_l_m = gun_data_totals_state.loc[(gun_data_totals_state['labor_force_p']>gun_data_totals_state['labor_force_p'].median()) & (gun_data_totals_state['bachelor_degree_higher_p']>gun_data_totals_state['bachelor_degree_higher_p'].median()) & (gun_data_totals_state['median_household_income']>gun_data_totals_state['median_household_income'].median()) , ['checks_percapita']]\n",
    "print gun_join_b_l_m['checks_percapita'].median()\n",
    "print '\\n'\n",
    "print 'IQR Database '\n",
    "print'Median checks percapita for states with bachelor degree or higher, labor force percent and median household income less than average:'\n",
    "gun_join_b_l_m = gun_checks_states_IQR.loc[(gun_checks_states_IQR['labor_force_p']<gun_checks_states_IQR['labor_force_p'].median()) & (gun_checks_states_IQR['bachelor_degree_higher_p']<gun_checks_states_IQR['bachelor_degree_higher_p'].median()) & (gun_checks_states_IQR['median_household_income']<gun_checks_states_IQR['median_household_income'].median()) , ['checks_percapita']]\n",
    "print gun_join_b_l_m['checks_percapita'].median()\n",
    "\n",
    "print'Median checks percapita for states with bachelor degree or higher, labor force percent and median household income high than average:'\n",
    "gun_join_b_l_m = gun_checks_states_IQR.loc[(gun_checks_states_IQR['labor_force_p']>gun_checks_states_IQR['labor_force_p'].median()) & (gun_checks_states_IQR['bachelor_degree_higher_p']>gun_checks_states_IQR['bachelor_degree_higher_p'].median()) & (gun_checks_states_IQR['median_household_income']>gun_checks_states_IQR['median_household_income'].median()) , ['checks_percapita']]\n",
    "print gun_join_b_l_m['checks_percapita'].median()"
   ]
  },
  {
   "cell_type": "markdown",
   "metadata": {},
   "source": [
    "The states with the combination of the three factor lower than average shows a median or checks percapita about 6% higher than for states with the combination of the factor higher than average."
   ]
  },
  {
   "cell_type": "code",
   "execution_count": 68,
   "metadata": {
    "collapsed": false
   },
   "outputs": [
    {
     "name": "stdout",
     "output_type": "stream",
     "text": [
      "Some measures of central tendency about the states with checks percapita lower than average\n",
      "Poverty\n",
      "Median:  13.05 %\n",
      "Standard deviation:  0.0211666524021\n",
      "Variance:  0.000448027173913 \n",
      "\n",
      "Labor Force\n",
      "Median:  63.35 %\n",
      "Standard deviation:  0.028452063678\n",
      "Variance:  0.000809519927536 \n",
      "\n",
      "Bachelor Degree or higher\n",
      "Median:  29.65 %\n",
      "Standard deviation:  0.0436912752873\n",
      "Variance:  0.00190892753623 \n",
      "\n",
      "Median household income\n",
      "Median:  53.09 $\n",
      "Standard deviation:  8.44099637123\n",
      "Variance:  71.2504197391 \n",
      "\n",
      "Percapita Income\n",
      "Median:  27.794 $\n",
      "Standard deviation:  3.70366293986\n",
      "Variance:  13.7171191721\n",
      "\n",
      "\n",
      "Some measures of central tendency about the states with checks percapita higher than average\n",
      "Poverty\n",
      "Median:  13.3 %\n",
      "Standard deviation:  0.0366823171474\n",
      "Variance:  0.0013455923913 \n",
      "\n",
      "Labor Force\n",
      "Median:  63.55 %\n",
      "Standard deviation:  0.0435814870615\n",
      "Variance:  0.00189934601449 \n",
      "\n",
      "Bachelor Degree or higher\n",
      "Median:  27.05 %\n",
      "Standard deviation:  0.0515452348126\n",
      "Variance:  0.00265691123188 \n",
      "\n",
      "Median household income\n",
      "Median:  50.106 $\n",
      "Standard deviation:  9.45736342521\n",
      "Variance:  89.4417229565 \n",
      "\n",
      "Percapita Income\n",
      "Median:  26.32 $\n",
      "Standard deviation:  4.47973825237\n",
      "Variance:  20.0680548098\n",
      "\n",
      "\n"
     ]
    }
   ],
   "source": [
    "print 'Some measures of central tendency about the states with checks percapita lower than average'\n",
    "gun_states_checks_bm = gun_checks_states_IQR.loc[gun_checks_states_IQR['checks_percapita']<gun_checks_states_IQR['checks_percapita'].median()]\n",
    "print 'Poverty'\n",
    "print 'Median: ', gun_states_checks_bm['poverty_p'].median()*100, '%'\n",
    "print 'Standard deviation: ', gun_states_checks_bm['poverty_p'].std()\n",
    "print 'Variance: ', gun_states_checks_bm['poverty_p'].var(), '\\n'\n",
    "\n",
    "print 'Labor Force'\n",
    "print 'Median: ',gun_states_checks_bm['labor_force_p'].median()*100, '%'\n",
    "print 'Standard deviation: ',gun_states_checks_bm['labor_force_p'].std()\n",
    "print 'Variance: ', gun_states_checks_bm['labor_force_p'].var(), '\\n'\n",
    "\n",
    "print 'Bachelor Degree or higher'\n",
    "print 'Median: ', gun_states_checks_bm['bachelor_degree_higher_p'].median()*100, '%'\n",
    "print 'Standard deviation: ',gun_states_checks_bm['bachelor_degree_higher_p'].std()\n",
    "print 'Variance: ', gun_states_checks_bm['bachelor_degree_higher_p'].var(), '\\n'\n",
    "\n",
    "print 'Median household income'\n",
    "print 'Median: ', gun_states_checks_bm['median_household_income'].median(), '$'\n",
    "print 'Standard deviation: ',gun_states_checks_bm['median_household_income'].std()\n",
    "print 'Variance: ', gun_states_checks_bm['median_household_income'].var(), '\\n'\n",
    "\n",
    "print 'Percapita Income'\n",
    "print 'Median: ', gun_states_checks_bm['percapita_income'].median(), '$'\n",
    "print 'Standard deviation: ',gun_states_checks_bm['percapita_income'].std()\n",
    "print 'Variance: ', gun_states_checks_bm['percapita_income'].var()\n",
    "print'\\n'\n",
    "\n",
    "\n",
    "print 'Some measures of central tendency about the states with checks percapita higher than average'\n",
    "gun_states_checks_bm = gun_checks_states_IQR.loc[gun_checks_states_IQR['checks_percapita']>gun_checks_states_IQR['checks_percapita'].median()]\n",
    "print 'Poverty'\n",
    "print 'Median: ', gun_states_checks_bm['poverty_p'].median()*100, '%'\n",
    "print 'Standard deviation: ', gun_states_checks_bm['poverty_p'].std()\n",
    "print 'Variance: ', gun_states_checks_bm['poverty_p'].var(), '\\n'\n",
    "\n",
    "print 'Labor Force'\n",
    "print 'Median: ',gun_states_checks_bm['labor_force_p'].median()*100, '%'\n",
    "print 'Standard deviation: ',gun_states_checks_bm['labor_force_p'].std()\n",
    "print 'Variance: ', gun_states_checks_bm['labor_force_p'].var(), '\\n'\n",
    "\n",
    "print 'Bachelor Degree or higher'\n",
    "print 'Median: ', gun_states_checks_bm['bachelor_degree_higher_p'].median()*100, '%'\n",
    "print 'Standard deviation: ',gun_states_checks_bm['bachelor_degree_higher_p'].std()\n",
    "print 'Variance: ', gun_states_checks_bm['bachelor_degree_higher_p'].var(), '\\n'\n",
    "\n",
    "print 'Median household income'\n",
    "print 'Median: ', gun_states_checks_bm['median_household_income'].median(), '$'\n",
    "print 'Standard deviation: ',gun_states_checks_bm['median_household_income'].std()\n",
    "print 'Variance: ', gun_states_checks_bm['median_household_income'].var(), '\\n'\n",
    "\n",
    "print 'Percapita Income'\n",
    "print 'Median: ', gun_states_checks_bm['percapita_income'].median(), '$'\n",
    "print 'Standard deviation: ',gun_states_checks_bm['percapita_income'].std()\n",
    "print 'Variance: ', gun_states_checks_bm['percapita_income'].var()\n",
    "print'\\n'"
   ]
  },
  {
   "cell_type": "markdown",
   "metadata": {},
   "source": [
    "<a id='conclusions'></a>\n",
    "## Conclusions\n"
   ]
  },
  {
   "cell_type": "markdown",
   "metadata": {},
   "source": [
    "Measures of central tendency were computed to summarize the data for the variables that could help us understand the quantity of checks percapita by state. Measures of dispersion were computed to understand the variability of the data. The median instead of a mean was chosen because the distribution of the data is skewed.\n",
    "\n",
    "The questions are about educational variables and economic variables and how they could help to understand the total checks per guns in the states between 2011 and 2015.\n",
    "\n",
    "For the variables about education the mean of people with high school or higher is 88% and the standard deviation is 0.03. The state that more people attended at least to high school has 44% more checks percapita  than the state that less people attended at least to high school. For people with bachelor degree or higher, the difference in checks for the state with the high percentage of people with bachelor degree or higher and the low percentage of people with bachelor degree or higher is 47%. The median of checks for states with bachelor degree or higher above average is 10% lower than the median for states with bachelor degree or higher below average.\n",
    "\n",
    "Analysing the economic factors starting with poverty. The state with the lowest percentage of poor people has more checks than the state with the higher percent. Analysing the percentage of people in labor force, the state with the lower percentage of people working did about 20% more checks than the state with the higher percentage of people working. Using the measures of central tendency and checking if states with higher labor force did less checks we had the oposite. States with labor force lower than median have 1% lower checks than average. Analysing the median household income, the state with higher median household income did 25% less checks than the state with lower median household income. The difference in checks percapita for the states with median household income higher than average and lower than average is about 5%. The state with the lowest percapita income has 1% more checks than the state with the highest percapita income. The difference in checks percapita for the states with percapita income higher than average and lower than average is about 6%.\n",
    "\n",
    "Another analysis was to join the factors that has more difference in checks percapita and analyse the checks for this states. The states with bachelor degree or higher above average, labor force above average and median household income above average did 6% less checks than the median for states below average.\n",
    "\n",
    "\n",
    "\n"
   ]
  }
 ],
 "metadata": {
  "anaconda-cloud": {},
  "kernelspec": {
   "display_name": "Python 2",
   "language": "python",
   "name": "python2"
  },
  "language_info": {
   "codemirror_mode": {
    "name": "ipython",
    "version": 2
   },
   "file_extension": ".py",
   "mimetype": "text/x-python",
   "name": "python",
   "nbconvert_exporter": "python",
   "pygments_lexer": "ipython2",
   "version": "2.7.12"
  }
 },
 "nbformat": 4,
 "nbformat_minor": 2
}
